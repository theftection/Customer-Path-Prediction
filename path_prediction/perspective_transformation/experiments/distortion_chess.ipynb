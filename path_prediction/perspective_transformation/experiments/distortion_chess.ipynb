{
 "cells": [
  {
   "cell_type": "markdown",
   "id": "62133d81",
   "metadata": {},
   "source": [
    "# Testing Homography / Perspektiv Transformation"
   ]
  },
  {
   "cell_type": "code",
   "execution_count": 1,
   "id": "4fb389d6",
   "metadata": {},
   "outputs": [],
   "source": [
    "import cv2\n",
    "import numpy as np"
   ]
  },
  {
   "cell_type": "code",
   "execution_count": 6,
   "id": "c69018fc",
   "metadata": {},
   "outputs": [
    {
     "name": "stdout",
     "output_type": "stream",
     "text": [
      "(1944, 2592, 3)\n"
     ]
    }
   ],
   "source": [
    "img = cv2.imread(\"../res/chess.png\")\n",
    "print(img.shape)\n",
    "img = cv2.cvtColor(img, cv2.COLOR_BGR2GRAY)\n",
    "img = cv2.equalizeHist(img)\n",
    "\n",
    "found, corners = cv2.findChessboardCorners(img, (7,7), None)"
   ]
  },
  {
   "cell_type": "code",
   "execution_count": 48,
   "id": "608049df",
   "metadata": {},
   "outputs": [],
   "source": [
    "\n",
    "if found:\n",
    "    img_corners = cv2.drawChessboardCorners(img, (7, 7), corners, found)\n",
    "    cv2.imwrite(\"chessboard_corners.png\", img_corners)"
   ]
  },
  {
   "cell_type": "code",
   "execution_count": 49,
   "id": "c0a394cb",
   "metadata": {},
   "outputs": [],
   "source": [
    "\n",
    "# Prepare object points and image points\n",
    "objp = np.zeros((7 * 7, 3), np.float32)\n",
    "objp[:, :2] = np.mgrid[0:7, 0:7].T.reshape(-1, 2)\n",
    "\n",
    "# Arrays to store object points and image points from all the images\n",
    "objpoints = []\n",
    "imgpoints = []"
   ]
  },
  {
   "cell_type": "code",
   "execution_count": 52,
   "id": "2a7341ed",
   "metadata": {},
   "outputs": [],
   "source": [
    "\n",
    "# If corners are found, add object points and image points to the arrays\n",
    "if found:\n",
    "    objpoints.append(objp)\n",
    "    imgpoints.append(corners)"
   ]
  },
  {
   "cell_type": "code",
   "execution_count": 53,
   "id": "e7fbdc47",
   "metadata": {},
   "outputs": [],
   "source": [
    "\n",
    "# Calculate camera matrix and distortion coefficients\n",
    "_, camera_matrix, distortion_coefficients, _, _ = cv2.calibrateCamera(\n",
    "    objpoints, imgpoints, img.shape[1::-1], None, None\n",
    ")"
   ]
  },
  {
   "cell_type": "code",
   "execution_count": 54,
   "metadata": {},
   "outputs": [
    {
     "data": {
      "text/plain": [
       "(array([[4.99968606e+05, 0.00000000e+00, 1.37568763e+03],\n",
       "        [0.00000000e+00, 5.00385561e+05, 9.33917760e+02],\n",
       "        [0.00000000e+00, 0.00000000e+00, 1.00000000e+00]]),\n",
       " array([[-3.22648198e+04, -2.58991015e-01,  2.45099143e+00,\n",
       "         -5.20400332e+00, -1.34867965e-06]]))"
      ]
     },
     "execution_count": 54,
     "metadata": {},
     "output_type": "execute_result"
    }
   ],
   "source": [
    "camera_matrix, distortion_coefficients"
   ]
  },
  {
   "cell_type": "code",
   "execution_count": 55,
   "id": "9322db97",
   "metadata": {},
   "outputs": [
    {
     "data": {
      "text/plain": [
       "True"
      ]
     },
     "execution_count": 55,
     "metadata": {},
     "output_type": "execute_result"
    }
   ],
   "source": [
    "\n",
    "# Correct the radial distortion\n",
    "undistorted_img = cv2.undistort(img, camera_matrix, distortion_coefficients)\n",
    "\n",
    "# Save the undistorted image\n",
    "cv2.imwrite(\"undistorted_chessboard.png\", undistorted_img)\n"
   ]
  },
  {
   "attachments": {},
   "cell_type": "markdown",
   "id": "d41c34ab",
   "metadata": {},
   "source": [
    "## Transform image"
   ]
  },
  {
   "cell_type": "code",
   "execution_count": 67,
   "id": "40f410b7",
   "metadata": {},
   "outputs": [
    {
     "data": {
      "text/plain": [
       "True"
      ]
     },
     "execution_count": 67,
     "metadata": {},
     "output_type": "execute_result"
    }
   ],
   "source": [
    "img = cv2.imread(\"../res/Ch4_image.png\")\n",
    "camera_matrix = np.array([[3.00368606e+05, 0.00000000e+00, 1.38568763e+03],\n",
    "                        [0.00000000e+00, 14.00385561e+05, 9.43917760e+02],\n",
    "                        [0.00000000e+00, 0.00000000e+00, 1.00000000e+00]])\n",
    "distortion_coefficients = np.array([[-0.94648198e+04, -3.58991015e-01,  2.45099143e+00,\n",
    "                                    -6.20400332e+00, -1.34867965e-06]])\n",
    "undistorted_img = cv2.undistort(img, camera_matrix, distortion_coefficients)\n",
    "cv2.imwrite(\"../res/undistorted_Ch4_sample.png\", undistorted_img)"
   ]
  },
  {
   "attachments": {},
   "cell_type": "markdown",
   "id": "8039d81f",
   "metadata": {},
   "source": [
    "## Transform video"
   ]
  },
  {
   "cell_type": "code",
   "execution_count": 70,
   "id": "328b6e12",
   "metadata": {},
   "outputs": [
    {
     "name": "stderr",
     "output_type": "stream",
     "text": [
      "[h264 @ 0x14e04a000] Invalid NAL unit size (1748938622 > 22861).\n",
      "[h264 @ 0x14e04a000] Error splitting the input into NAL units.\n"
     ]
    }
   ],
   "source": [
    "camera_matrix = np.array([[4.53368606e+05, 0.00000000e+00, 1.37568763e+03],\n",
    "                        [0.00000000e+00, 15.00385561e+05, 9.43917760e+02],\n",
    "                        [0.00000000e+00, 0.00000000e+00, 1.00000000e+00]])\n",
    "distortion_coefficients = np.array([[-2.24648198e+04, -3.58991015e-01,  2.45099143e+00,\n",
    "                                    -6.20400332e+00, -1.34867965e-06]])\n",
    "# Load video\n",
    "\n",
    "video = cv2.VideoCapture(\"../res/Ch4_video.mp4\")\n",
    "fourcc = int(video.get(cv2.CAP_PROP_FOURCC))\n",
    "fps = video.get(cv2.CAP_PROP_FPS)\n",
    "frame_count = int(video.get(cv2.CAP_PROP_FRAME_COUNT))\n",
    "size = (int(video.get(cv2.CAP_PROP_FRAME_WIDTH)),\n",
    "        int(video.get(cv2.CAP_PROP_FRAME_HEIGHT)))\n",
    "writer = cv2.VideoWriter(\"../res/undistorted_Ch4_video.mp4\", fourcc, fps, size)\n",
    "while video.grab() is True:\n",
    "    frame =  cv2.undistort(video.retrieve()[1], camera_matrix, distortion_coefficients)\n",
    "    writer.write(frame)\n",
    "video.release()\n",
    "writer.release()"
   ]
  },
  {
   "cell_type": "code",
   "execution_count": null,
   "metadata": {},
   "outputs": [],
   "source": []
  }
 ],
 "metadata": {
  "kernelspec": {
   "display_name": "51",
   "language": "python",
   "name": "python3"
  },
  "language_info": {
   "codemirror_mode": {
    "name": "ipython",
    "version": 3
   },
   "file_extension": ".py",
   "mimetype": "text/x-python",
   "name": "python",
   "nbconvert_exporter": "python",
   "pygments_lexer": "ipython3",
   "version": "3.8.15"
  },
  "vscode": {
   "interpreter": {
    "hash": "fd0382a17d977ae70a6d9f6ae17e2e298f638338f50632a28ce50f70a766e34f"
   }
  }
 },
 "nbformat": 4,
 "nbformat_minor": 5
}
