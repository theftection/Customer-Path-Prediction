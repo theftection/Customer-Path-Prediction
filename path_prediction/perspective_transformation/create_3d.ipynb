{
 "cells": [
  {
   "cell_type": "markdown",
   "id": "d8dca34f",
   "metadata": {},
   "source": [
    "# Create 3d clone of the scene"
   ]
  },
  {
   "cell_type": "code",
   "execution_count": 1,
   "id": "51b8d828",
   "metadata": {},
   "outputs": [],
   "source": [
    "import cv2\n",
    "import numpy as np\n",
    "import matplotlib.pyplot as plt"
   ]
  },
  {
   "cell_type": "code",
   "execution_count": 2,
   "id": "077f82c2",
   "metadata": {},
   "outputs": [],
   "source": [
    "# opens up the florr_plan image and lets you select 4 points on the floor which will be used to create a 3d volume\n",
    "def create_volume(floor_plan, height):\n",
    "\n",
    "    points = []\n",
    "            \n",
    "    def select_points_plan(event, x, y, flags, param):\n",
    "        if event == cv2.EVENT_LBUTTONDOWN:\n",
    "            points.append([x, y, 0])\n",
    "            print(\"floor plan point selected:\", [x, y, 0])\n",
    "\n",
    "    cv2.namedWindow(\"floor_plan\")\n",
    "    cv2.setMouseCallback(\"floor_plan\", select_points_plan)\n",
    "\n",
    "    while True:\n",
    "        cv2.imshow(\"floor_plan\", floor_plan)\n",
    "        key = cv2.waitKey(1) & 0xFF\n",
    "        if key == ord(\"q\"):\n",
    "            break\n",
    "\n",
    "    cv2.destroyAllWindows()\n",
    "\n",
    "    # copy points and add the height to the points\n",
    "    original_matrix = np.array(points)\n",
    "    modified_matrix = np.copy(original_matrix)\n",
    "    modified_matrix[:,-1] = height\n",
    "\n",
    "    return np.concatenate((original_matrix, modified_matrix), axis=0)"
   ]
  },
  {
   "cell_type": "code",
   "execution_count": 3,
   "id": "2968968a",
   "metadata": {},
   "outputs": [],
   "source": [
    "def create_image_association():\n",
    "\n",
    "    image = cv2.imread(\"Ch4_image.png\")\n",
    "\n",
    "    points = []\n",
    "            \n",
    "    def select_points_plan(event, x, y, flags, param):\n",
    "        if event == cv2.EVENT_LBUTTONDOWN:\n",
    "            points.append([x, y])\n",
    "            print(\"floor plan point selected:\", [x, y])\n",
    "\n",
    "    cv2.namedWindow(\"image\")\n",
    "    cv2.setMouseCallback(\"image\", select_points_plan)\n",
    "\n",
    "    while True:\n",
    "        cv2.imshow(\"image\", image)\n",
    "        key = cv2.waitKey(1) & 0xFF\n",
    "        if key == ord(\"q\"):\n",
    "            break\n",
    "\n",
    "    cv2.destroyAllWindows()\n",
    "\n",
    "    # copy points and add the height to the points\n",
    "    return np.array(points)"
   ]
  },
  {
   "cell_type": "code",
   "execution_count": 7,
   "id": "9c1afd81",
   "metadata": {},
   "outputs": [
    {
     "name": "stdout",
     "output_type": "stream",
     "text": [
      "floor plan point selected: [463, 925, 0]\n",
      "floor plan point selected: [412, 925, 0]\n",
      "floor plan point selected: [412, 599, 0]\n",
      "floor plan point selected: [338, 919, 0]\n",
      "floor plan point selected: [291, 923, 0]\n"
     ]
    }
   ],
   "source": [
    "floor_plan = cv2.imread(\"Ch4_floor_plan.png\")\n",
    "points = [create_volume(floor_plan, 120) for vol in range(2)]"
   ]
  },
  {
   "cell_type": "code",
   "execution_count": 8,
   "id": "a7c084e9",
   "metadata": {},
   "outputs": [
    {
     "data": {
      "application/vnd.plotly.v1+json": {
       "config": {
        "plotlyServerURL": "https://plot.ly"
       },
       "data": [
        {
         "marker": {
          "size": 2
         },
         "mode": "lines",
         "type": "scatter3d",
         "x": [
          463,
          412,
          412,
          463,
          412,
          412
         ],
         "y": [
          925,
          925,
          599,
          925,
          925,
          599
         ],
         "z": [
          0,
          0,
          0,
          120,
          120,
          120
         ]
        },
        {
         "marker": {
          "size": 2
         },
         "mode": "lines",
         "type": "scatter3d",
         "x": [
          338,
          291,
          338,
          291
         ],
         "y": [
          919,
          923,
          919,
          923
         ],
         "z": [
          0,
          0,
          120,
          120
         ]
        },
        {
         "marker": {
          "color": "red",
          "size": 5
         },
         "mode": "markers",
         "type": "scatter3d",
         "x": [
          463
         ],
         "y": [
          925
         ],
         "z": [
          0
         ]
        }
       ],
       "layout": {
        "scene": {
         "aspectmode": "manual",
         "aspectratio": {
          "x": 1,
          "y": 1,
          "z": 1
         },
         "xaxis": {
          "autorange": false,
          "range": [
           650,
           0
          ]
         },
         "yaxis": {
          "autorange": false,
          "range": [
           0,
           1046
          ]
         },
         "zaxis": {
          "autorange": false,
          "range": [
           0,
           650
          ]
         }
        },
        "template": {
         "data": {
          "bar": [
           {
            "error_x": {
             "color": "#2a3f5f"
            },
            "error_y": {
             "color": "#2a3f5f"
            },
            "marker": {
             "line": {
              "color": "#E5ECF6",
              "width": 0.5
             },
             "pattern": {
              "fillmode": "overlay",
              "size": 10,
              "solidity": 0.2
             }
            },
            "type": "bar"
           }
          ],
          "barpolar": [
           {
            "marker": {
             "line": {
              "color": "#E5ECF6",
              "width": 0.5
             },
             "pattern": {
              "fillmode": "overlay",
              "size": 10,
              "solidity": 0.2
             }
            },
            "type": "barpolar"
           }
          ],
          "carpet": [
           {
            "aaxis": {
             "endlinecolor": "#2a3f5f",
             "gridcolor": "white",
             "linecolor": "white",
             "minorgridcolor": "white",
             "startlinecolor": "#2a3f5f"
            },
            "baxis": {
             "endlinecolor": "#2a3f5f",
             "gridcolor": "white",
             "linecolor": "white",
             "minorgridcolor": "white",
             "startlinecolor": "#2a3f5f"
            },
            "type": "carpet"
           }
          ],
          "choropleth": [
           {
            "colorbar": {
             "outlinewidth": 0,
             "ticks": ""
            },
            "type": "choropleth"
           }
          ],
          "contour": [
           {
            "colorbar": {
             "outlinewidth": 0,
             "ticks": ""
            },
            "colorscale": [
             [
              0,
              "#0d0887"
             ],
             [
              0.1111111111111111,
              "#46039f"
             ],
             [
              0.2222222222222222,
              "#7201a8"
             ],
             [
              0.3333333333333333,
              "#9c179e"
             ],
             [
              0.4444444444444444,
              "#bd3786"
             ],
             [
              0.5555555555555556,
              "#d8576b"
             ],
             [
              0.6666666666666666,
              "#ed7953"
             ],
             [
              0.7777777777777778,
              "#fb9f3a"
             ],
             [
              0.8888888888888888,
              "#fdca26"
             ],
             [
              1,
              "#f0f921"
             ]
            ],
            "type": "contour"
           }
          ],
          "contourcarpet": [
           {
            "colorbar": {
             "outlinewidth": 0,
             "ticks": ""
            },
            "type": "contourcarpet"
           }
          ],
          "heatmap": [
           {
            "colorbar": {
             "outlinewidth": 0,
             "ticks": ""
            },
            "colorscale": [
             [
              0,
              "#0d0887"
             ],
             [
              0.1111111111111111,
              "#46039f"
             ],
             [
              0.2222222222222222,
              "#7201a8"
             ],
             [
              0.3333333333333333,
              "#9c179e"
             ],
             [
              0.4444444444444444,
              "#bd3786"
             ],
             [
              0.5555555555555556,
              "#d8576b"
             ],
             [
              0.6666666666666666,
              "#ed7953"
             ],
             [
              0.7777777777777778,
              "#fb9f3a"
             ],
             [
              0.8888888888888888,
              "#fdca26"
             ],
             [
              1,
              "#f0f921"
             ]
            ],
            "type": "heatmap"
           }
          ],
          "heatmapgl": [
           {
            "colorbar": {
             "outlinewidth": 0,
             "ticks": ""
            },
            "colorscale": [
             [
              0,
              "#0d0887"
             ],
             [
              0.1111111111111111,
              "#46039f"
             ],
             [
              0.2222222222222222,
              "#7201a8"
             ],
             [
              0.3333333333333333,
              "#9c179e"
             ],
             [
              0.4444444444444444,
              "#bd3786"
             ],
             [
              0.5555555555555556,
              "#d8576b"
             ],
             [
              0.6666666666666666,
              "#ed7953"
             ],
             [
              0.7777777777777778,
              "#fb9f3a"
             ],
             [
              0.8888888888888888,
              "#fdca26"
             ],
             [
              1,
              "#f0f921"
             ]
            ],
            "type": "heatmapgl"
           }
          ],
          "histogram": [
           {
            "marker": {
             "pattern": {
              "fillmode": "overlay",
              "size": 10,
              "solidity": 0.2
             }
            },
            "type": "histogram"
           }
          ],
          "histogram2d": [
           {
            "colorbar": {
             "outlinewidth": 0,
             "ticks": ""
            },
            "colorscale": [
             [
              0,
              "#0d0887"
             ],
             [
              0.1111111111111111,
              "#46039f"
             ],
             [
              0.2222222222222222,
              "#7201a8"
             ],
             [
              0.3333333333333333,
              "#9c179e"
             ],
             [
              0.4444444444444444,
              "#bd3786"
             ],
             [
              0.5555555555555556,
              "#d8576b"
             ],
             [
              0.6666666666666666,
              "#ed7953"
             ],
             [
              0.7777777777777778,
              "#fb9f3a"
             ],
             [
              0.8888888888888888,
              "#fdca26"
             ],
             [
              1,
              "#f0f921"
             ]
            ],
            "type": "histogram2d"
           }
          ],
          "histogram2dcontour": [
           {
            "colorbar": {
             "outlinewidth": 0,
             "ticks": ""
            },
            "colorscale": [
             [
              0,
              "#0d0887"
             ],
             [
              0.1111111111111111,
              "#46039f"
             ],
             [
              0.2222222222222222,
              "#7201a8"
             ],
             [
              0.3333333333333333,
              "#9c179e"
             ],
             [
              0.4444444444444444,
              "#bd3786"
             ],
             [
              0.5555555555555556,
              "#d8576b"
             ],
             [
              0.6666666666666666,
              "#ed7953"
             ],
             [
              0.7777777777777778,
              "#fb9f3a"
             ],
             [
              0.8888888888888888,
              "#fdca26"
             ],
             [
              1,
              "#f0f921"
             ]
            ],
            "type": "histogram2dcontour"
           }
          ],
          "mesh3d": [
           {
            "colorbar": {
             "outlinewidth": 0,
             "ticks": ""
            },
            "type": "mesh3d"
           }
          ],
          "parcoords": [
           {
            "line": {
             "colorbar": {
              "outlinewidth": 0,
              "ticks": ""
             }
            },
            "type": "parcoords"
           }
          ],
          "pie": [
           {
            "automargin": true,
            "type": "pie"
           }
          ],
          "scatter": [
           {
            "fillpattern": {
             "fillmode": "overlay",
             "size": 10,
             "solidity": 0.2
            },
            "type": "scatter"
           }
          ],
          "scatter3d": [
           {
            "line": {
             "colorbar": {
              "outlinewidth": 0,
              "ticks": ""
             }
            },
            "marker": {
             "colorbar": {
              "outlinewidth": 0,
              "ticks": ""
             }
            },
            "type": "scatter3d"
           }
          ],
          "scattercarpet": [
           {
            "marker": {
             "colorbar": {
              "outlinewidth": 0,
              "ticks": ""
             }
            },
            "type": "scattercarpet"
           }
          ],
          "scattergeo": [
           {
            "marker": {
             "colorbar": {
              "outlinewidth": 0,
              "ticks": ""
             }
            },
            "type": "scattergeo"
           }
          ],
          "scattergl": [
           {
            "marker": {
             "colorbar": {
              "outlinewidth": 0,
              "ticks": ""
             }
            },
            "type": "scattergl"
           }
          ],
          "scattermapbox": [
           {
            "marker": {
             "colorbar": {
              "outlinewidth": 0,
              "ticks": ""
             }
            },
            "type": "scattermapbox"
           }
          ],
          "scatterpolar": [
           {
            "marker": {
             "colorbar": {
              "outlinewidth": 0,
              "ticks": ""
             }
            },
            "type": "scatterpolar"
           }
          ],
          "scatterpolargl": [
           {
            "marker": {
             "colorbar": {
              "outlinewidth": 0,
              "ticks": ""
             }
            },
            "type": "scatterpolargl"
           }
          ],
          "scatterternary": [
           {
            "marker": {
             "colorbar": {
              "outlinewidth": 0,
              "ticks": ""
             }
            },
            "type": "scatterternary"
           }
          ],
          "surface": [
           {
            "colorbar": {
             "outlinewidth": 0,
             "ticks": ""
            },
            "colorscale": [
             [
              0,
              "#0d0887"
             ],
             [
              0.1111111111111111,
              "#46039f"
             ],
             [
              0.2222222222222222,
              "#7201a8"
             ],
             [
              0.3333333333333333,
              "#9c179e"
             ],
             [
              0.4444444444444444,
              "#bd3786"
             ],
             [
              0.5555555555555556,
              "#d8576b"
             ],
             [
              0.6666666666666666,
              "#ed7953"
             ],
             [
              0.7777777777777778,
              "#fb9f3a"
             ],
             [
              0.8888888888888888,
              "#fdca26"
             ],
             [
              1,
              "#f0f921"
             ]
            ],
            "type": "surface"
           }
          ],
          "table": [
           {
            "cells": {
             "fill": {
              "color": "#EBF0F8"
             },
             "line": {
              "color": "white"
             }
            },
            "header": {
             "fill": {
              "color": "#C8D4E3"
             },
             "line": {
              "color": "white"
             }
            },
            "type": "table"
           }
          ]
         },
         "layout": {
          "annotationdefaults": {
           "arrowcolor": "#2a3f5f",
           "arrowhead": 0,
           "arrowwidth": 1
          },
          "autotypenumbers": "strict",
          "coloraxis": {
           "colorbar": {
            "outlinewidth": 0,
            "ticks": ""
           }
          },
          "colorscale": {
           "diverging": [
            [
             0,
             "#8e0152"
            ],
            [
             0.1,
             "#c51b7d"
            ],
            [
             0.2,
             "#de77ae"
            ],
            [
             0.3,
             "#f1b6da"
            ],
            [
             0.4,
             "#fde0ef"
            ],
            [
             0.5,
             "#f7f7f7"
            ],
            [
             0.6,
             "#e6f5d0"
            ],
            [
             0.7,
             "#b8e186"
            ],
            [
             0.8,
             "#7fbc41"
            ],
            [
             0.9,
             "#4d9221"
            ],
            [
             1,
             "#276419"
            ]
           ],
           "sequential": [
            [
             0,
             "#0d0887"
            ],
            [
             0.1111111111111111,
             "#46039f"
            ],
            [
             0.2222222222222222,
             "#7201a8"
            ],
            [
             0.3333333333333333,
             "#9c179e"
            ],
            [
             0.4444444444444444,
             "#bd3786"
            ],
            [
             0.5555555555555556,
             "#d8576b"
            ],
            [
             0.6666666666666666,
             "#ed7953"
            ],
            [
             0.7777777777777778,
             "#fb9f3a"
            ],
            [
             0.8888888888888888,
             "#fdca26"
            ],
            [
             1,
             "#f0f921"
            ]
           ],
           "sequentialminus": [
            [
             0,
             "#0d0887"
            ],
            [
             0.1111111111111111,
             "#46039f"
            ],
            [
             0.2222222222222222,
             "#7201a8"
            ],
            [
             0.3333333333333333,
             "#9c179e"
            ],
            [
             0.4444444444444444,
             "#bd3786"
            ],
            [
             0.5555555555555556,
             "#d8576b"
            ],
            [
             0.6666666666666666,
             "#ed7953"
            ],
            [
             0.7777777777777778,
             "#fb9f3a"
            ],
            [
             0.8888888888888888,
             "#fdca26"
            ],
            [
             1,
             "#f0f921"
            ]
           ]
          },
          "colorway": [
           "#636efa",
           "#EF553B",
           "#00cc96",
           "#ab63fa",
           "#FFA15A",
           "#19d3f3",
           "#FF6692",
           "#B6E880",
           "#FF97FF",
           "#FECB52"
          ],
          "font": {
           "color": "#2a3f5f"
          },
          "geo": {
           "bgcolor": "white",
           "lakecolor": "white",
           "landcolor": "#E5ECF6",
           "showlakes": true,
           "showland": true,
           "subunitcolor": "white"
          },
          "hoverlabel": {
           "align": "left"
          },
          "hovermode": "closest",
          "mapbox": {
           "style": "light"
          },
          "paper_bgcolor": "white",
          "plot_bgcolor": "#E5ECF6",
          "polar": {
           "angularaxis": {
            "gridcolor": "white",
            "linecolor": "white",
            "ticks": ""
           },
           "bgcolor": "#E5ECF6",
           "radialaxis": {
            "gridcolor": "white",
            "linecolor": "white",
            "ticks": ""
           }
          },
          "scene": {
           "xaxis": {
            "backgroundcolor": "#E5ECF6",
            "gridcolor": "white",
            "gridwidth": 2,
            "linecolor": "white",
            "showbackground": true,
            "ticks": "",
            "zerolinecolor": "white"
           },
           "yaxis": {
            "backgroundcolor": "#E5ECF6",
            "gridcolor": "white",
            "gridwidth": 2,
            "linecolor": "white",
            "showbackground": true,
            "ticks": "",
            "zerolinecolor": "white"
           },
           "zaxis": {
            "backgroundcolor": "#E5ECF6",
            "gridcolor": "white",
            "gridwidth": 2,
            "linecolor": "white",
            "showbackground": true,
            "ticks": "",
            "zerolinecolor": "white"
           }
          },
          "shapedefaults": {
           "line": {
            "color": "#2a3f5f"
           }
          },
          "ternary": {
           "aaxis": {
            "gridcolor": "white",
            "linecolor": "white",
            "ticks": ""
           },
           "baxis": {
            "gridcolor": "white",
            "linecolor": "white",
            "ticks": ""
           },
           "bgcolor": "#E5ECF6",
           "caxis": {
            "gridcolor": "white",
            "linecolor": "white",
            "ticks": ""
           }
          },
          "title": {
           "x": 0.05
          },
          "xaxis": {
           "automargin": true,
           "gridcolor": "white",
           "linecolor": "white",
           "ticks": "",
           "title": {
            "standoff": 15
           },
           "zerolinecolor": "white",
           "zerolinewidth": 2
          },
          "yaxis": {
           "automargin": true,
           "gridcolor": "white",
           "linecolor": "white",
           "ticks": "",
           "title": {
            "standoff": 15
           },
           "zerolinecolor": "white",
           "zerolinewidth": 2
          }
         }
        }
       }
      }
     },
     "metadata": {},
     "output_type": "display_data"
    }
   ],
   "source": [
    "import plotly.graph_objs as go\n",
    "\n",
    "# create a layout\n",
    "layout = go.Layout(scene=dict(xaxis=dict(range=[650, 0], autorange=False),\n",
    "                              yaxis=dict(range=[0, 1046], autorange=False),\n",
    "                              zaxis=dict(range=[0, 650], autorange=False),\n",
    "                              aspectmode='manual',\n",
    "                              aspectratio=dict(x=1, y=1, z=1)))\n",
    "\n",
    "# create a scatter plot\n",
    "red_dot = points[0][0]\n",
    "plots = [go.Scatter3d(x=vol[:,0], y=vol[:,1], z=vol[:,2], mode='lines', marker=dict(size=2)) for vol in points]\n",
    "plots.append(go.Scatter3d(x=[red_dot[0]], y=[red_dot[1]], z=[red_dot[2]], mode='markers', marker=dict(size=5, color='red')))\n",
    "\n",
    "# create a figure\n",
    "fig = go.Figure(data=plots, layout=layout)\n",
    "\n",
    "# show the figure\n",
    "fig.show()"
   ]
  },
  {
   "cell_type": "code",
   "execution_count": 9,
   "id": "c1b77da4",
   "metadata": {},
   "outputs": [
    {
     "data": {
      "text/plain": [
       "array([[463, 925,   0],\n",
       "       [412, 925,   0],\n",
       "       [412, 599,   0],\n",
       "       [463, 925, 120],\n",
       "       [412, 925, 120],\n",
       "       [412, 599, 120],\n",
       "       [338, 919,   0],\n",
       "       [291, 923,   0],\n",
       "       [338, 919, 120],\n",
       "       [291, 923, 120]])"
      ]
     },
     "execution_count": 9,
     "metadata": {},
     "output_type": "execute_result"
    }
   ],
   "source": [
    "object_points_pre = np.concatenate(points)\n",
    "object_points_pre"
   ]
  },
  {
   "cell_type": "code",
   "execution_count": 10,
   "id": "b95ba7f2",
   "metadata": {},
   "outputs": [
    {
     "name": "stdout",
     "output_type": "stream",
     "text": [
      "floor plan point selected: [1932, 1314]\n",
      "floor plan point selected: [1556, 1332]\n",
      "floor plan point selected: [1412, 524]\n",
      "floor plan point selected: [2071, 772]\n",
      "floor plan point selected: [1619, 764]\n",
      "floor plan point selected: [1432, 257]\n",
      "floor plan point selected: [942, 1355]\n",
      "floor plan point selected: [546, 1336]\n",
      "floor plan point selected: [760, 777]\n",
      "floor plan point selected: [407, 803]\n"
     ]
    }
   ],
   "source": [
    "image_points_pre = create_image_association()"
   ]
  },
  {
   "cell_type": "code",
   "execution_count": 11,
   "id": "222bb3b6",
   "metadata": {},
   "outputs": [
    {
     "data": {
      "text/plain": [
       "array([[1932, 1314],\n",
       "       [1556, 1332],\n",
       "       [1412,  524],\n",
       "       [2071,  772],\n",
       "       [1619,  764],\n",
       "       [1432,  257],\n",
       "       [ 942, 1355],\n",
       "       [ 546, 1336],\n",
       "       [ 760,  777],\n",
       "       [ 407,  803]])"
      ]
     },
     "execution_count": 11,
     "metadata": {},
     "output_type": "execute_result"
    }
   ],
   "source": [
    "image_points_pre"
   ]
  },
  {
   "cell_type": "code",
   "execution_count": 45,
   "id": "ea5726e5",
   "metadata": {},
   "outputs": [],
   "source": [
    "# Initialize the camera matrix and distortion coefficients\n",
    "camera_matrix = np.array([[1, 0, 0], [0, 1, 0], [0, 0, 1]], dtype=np.float32)\n",
    "dist_coeffs = np.zeros((5, 1), dtype=np.float32)"
   ]
  },
  {
   "cell_type": "code",
   "execution_count": 84,
   "id": "6061226d",
   "metadata": {},
   "outputs": [],
   "source": [
    "object_points = object_points_pre.reshape(14,3,1)\n",
    "image_points = image_points_pre.reshape(14,2,1)\n",
    "object_points = object_points.astype(np.float32)\n",
    "image_points = image_points.astype(np.float32)"
   ]
  },
  {
   "cell_type": "code",
   "execution_count": 85,
   "id": "8395b83f",
   "metadata": {},
   "outputs": [
    {
     "data": {
      "text/plain": [
       "((14, 3, 1), (14, 2, 1), (3, 3), (5, 1))"
      ]
     },
     "execution_count": 85,
     "metadata": {},
     "output_type": "execute_result"
    }
   ],
   "source": [
    "object_points_pre.reshape(14,3,1).shape, image_points.shape, camera_matrix.shape, dist_coeffs.shape"
   ]
  },
  {
   "cell_type": "code",
   "execution_count": 86,
   "id": "e430a3ed",
   "metadata": {},
   "outputs": [
    {
     "data": {
      "text/plain": [
       "(dtype('float32'), dtype('float32'), dtype('float32'), dtype('float32'))"
      ]
     },
     "execution_count": 86,
     "metadata": {},
     "output_type": "execute_result"
    }
   ],
   "source": [
    "object_points.dtype, image_points.dtype, camera_matrix.dtype, dist_coeffs.dtype"
   ]
  },
  {
   "cell_type": "code",
   "execution_count": 87,
   "id": "84b37ab1",
   "metadata": {},
   "outputs": [],
   "source": [
    "\n",
    "# Solve for the projection matrix\n",
    "ret, rvec, tvec = cv2.solvePnP(object_points, image_points, camera_matrix, dist_coeffs)"
   ]
  },
  {
   "cell_type": "code",
   "execution_count": 90,
   "id": "0547e393",
   "metadata": {},
   "outputs": [
    {
     "data": {
      "text/plain": [
       "(True,\n",
       " array([[-1894.98729869],\n",
       "        [-3437.7872221 ],\n",
       "        [ 2115.60847867]]),\n",
       " array([[245634.77959094],\n",
       "        [155092.01276606],\n",
       "        [   652.5197138 ]]))"
      ]
     },
     "execution_count": 90,
     "metadata": {},
     "output_type": "execute_result"
    }
   ],
   "source": [
    "ret, rvec, tvec"
   ]
  },
  {
   "cell_type": "code",
   "execution_count": 125,
   "id": "e35636e5",
   "metadata": {},
   "outputs": [],
   "source": [
    "\n",
    "# Projection matrix (3x4)\n",
    "projectionedPoints, _ = cv2.projectPoints(object_points, rvec, tvec, camera_matrix, dist_coeffs)"
   ]
  },
  {
   "cell_type": "code",
   "execution_count": 120,
   "id": "87e4c9f2",
   "metadata": {},
   "outputs": [
    {
     "name": "stderr",
     "output_type": "stream",
     "text": [
      "/var/folders/8_/51vdws854m1218_v37ctyqj80000gn/T/ipykernel_39453/2638066416.py:10: DeprecationWarning:\n",
      "\n",
      "setting an array element with a sequence. This was supported in some cases where the elements are arrays with a single element. For example `np.array([1, np.array([2])], dtype=int)`. In the future this will raise the same ValueError as `np.array([1, [2]], dtype=int)`.\n",
      "\n",
      "/var/folders/8_/51vdws854m1218_v37ctyqj80000gn/T/ipykernel_39453/2638066416.py:11: DeprecationWarning:\n",
      "\n",
      "setting an array element with a sequence. This was supported in some cases where the elements are arrays with a single element. For example `np.array([1, np.array([2])], dtype=int)`. In the future this will raise the same ValueError as `np.array([1, [2]], dtype=int)`.\n",
      "\n"
     ]
    }
   ],
   "source": [
    "n = object_points.shape[0]\n",
    "u = image_points[:,0]\n",
    "v = image_points[:,1]\n",
    "X = object_points[:,0]\n",
    "Y = object_points[:,1]\n",
    "Z = object_points[:,2]\n",
    "A = np.zeros((2*n, 12))\n",
    "\n",
    "for i in range(n):\n",
    "    A[i*2]=[X[i], Y[i], Z[i], 1, 0, 0, 0, 0, -u[i]*X[i], -u[i]*Y[i], -u[i]*Z[i], -u[i]]\n",
    "    A[i*2+1]=[0, 0, 0, 0, X[i], Y[i], Z[i], 1, -v[i]*X[i], -v[i]*Y[i], -v[i]*Z[i], -v[i]]\n",
    "\n",
    "U, S, V = np.linalg.svd(A)\n",
    "P = V[-1].reshape(3, 4)\n",
    "\t"
   ]
  },
  {
   "cell_type": "code",
   "execution_count": 127,
   "id": "7185c838",
   "metadata": {},
   "outputs": [
    {
     "data": {
      "text/plain": [
       "array([[-1.04484533e-03,  1.28295639e-03,  4.46846177e-04,\n",
       "        -9.31608840e-01],\n",
       "       [ 3.14599779e-04, -4.51213353e-06,  1.08737493e-03,\n",
       "        -3.63454687e-01],\n",
       "       [ 3.75132794e-07,  9.55680445e-07,  3.28975413e-07,\n",
       "        -1.20004307e-03]])"
      ]
     },
     "execution_count": 127,
     "metadata": {},
     "output_type": "execute_result"
    }
   ],
   "source": [
    "P"
   ]
  },
  {
   "cell_type": "code",
   "execution_count": 128,
   "id": "6ca2e91f",
   "metadata": {},
   "outputs": [],
   "source": [
    "x = np.array([1925, 1258, 1]).dot(P)"
   ]
  },
  {
   "cell_type": "code",
   "execution_count": 133,
   "id": "939331e9",
   "metadata": {},
   "outputs": [
    {
     "data": {
      "text/plain": [
       "array([ 1.38184899e+00, -2.10756450e+00, -1.90577430e+00,  1.92500000e+03])"
      ]
     },
     "execution_count": 133,
     "metadata": {},
     "output_type": "execute_result"
    }
   ],
   "source": [
    "x / x[0] * 1925"
   ]
  },
  {
   "cell_type": "code",
   "execution_count": 134,
   "id": "8b08fcae",
   "metadata": {},
   "outputs": [],
   "source": [
    "#It doesnt add up to the original image points"
   ]
  },
  {
   "cell_type": "code",
   "execution_count": null,
   "id": "e0570070",
   "metadata": {},
   "outputs": [],
   "source": []
  }
 ],
 "metadata": {
  "kernelspec": {
   "display_name": "51",
   "language": "python",
   "name": "python3"
  },
  "language_info": {
   "codemirror_mode": {
    "name": "ipython",
    "version": 3
   },
   "file_extension": ".py",
   "mimetype": "text/x-python",
   "name": "python",
   "nbconvert_exporter": "python",
   "pygments_lexer": "ipython3",
   "version": "3.8.15 (default, Nov 24 2022, 08:57:44) \n[Clang 14.0.6 ]"
  },
  "vscode": {
   "interpreter": {
    "hash": "fd0382a17d977ae70a6d9f6ae17e2e298f638338f50632a28ce50f70a766e34f"
   }
  }
 },
 "nbformat": 4,
 "nbformat_minor": 5
}
