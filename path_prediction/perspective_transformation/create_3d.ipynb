{
 "cells": [
  {
   "cell_type": "markdown",
   "id": "d8dca34f",
   "metadata": {},
   "source": [
    "# Create 3d clone of the scene"
   ]
  },
  {
   "cell_type": "code",
   "execution_count": 9,
   "id": "51b8d828",
   "metadata": {},
   "outputs": [],
   "source": [
    "import cv2\n",
    "import numpy as np\n",
    "import matplotlib.pyplot as plt"
   ]
  },
  {
   "cell_type": "code",
   "execution_count": 10,
   "id": "077f82c2",
   "metadata": {},
   "outputs": [],
   "source": [
    "# opens up the florr_plan image and lets you select 4 points on the floor which will be used to create a 3d volume\n",
    "def create_volume(floor_plan, height):\n",
    "\n",
    "    points = []\n",
    "            \n",
    "    def select_points_plan(event, x, y, flags, param):\n",
    "        if event == cv2.EVENT_LBUTTONDOWN:\n",
    "            points.append([x, y, 0])\n",
    "            print(\"floor plan point selected:\", [x, y, 0])\n",
    "\n",
    "    cv2.namedWindow(\"floor_plan\")\n",
    "    cv2.setMouseCallback(\"floor_plan\", select_points_plan)\n",
    "\n",
    "    while True:\n",
    "        cv2.imshow(\"floor_plan\", floor_plan)\n",
    "        key = cv2.waitKey(1) & 0xFF\n",
    "        if key == ord(\"q\"):\n",
    "            break\n",
    "\n",
    "    cv2.destroyAllWindows()\n",
    "\n",
    "    # copy points and add the height to the points\n",
    "    original_matrix = np.array(points)\n",
    "    modified_matrix = np.copy(original_matrix)\n",
    "    modified_matrix[:,-1] = height\n",
    "\n",
    "    return np.concatenate((original_matrix, modified_matrix), axis=0)"
   ]
  },
  {
   "cell_type": "code",
   "execution_count": 11,
   "id": "2968968a",
   "metadata": {},
   "outputs": [],
   "source": [
    "def create_image_association():\n",
    "\n",
    "    image = cv2.imread(\"Ch4_image.png\")\n",
    "\n",
    "    points = []\n",
    "            \n",
    "    def select_points_plan(event, x, y, flags, param):\n",
    "        if event == cv2.EVENT_LBUTTONDOWN:\n",
    "            points.append([x, y])\n",
    "            print(\"floor plan point selected:\", [x, y])\n",
    "\n",
    "    cv2.namedWindow(\"image\")\n",
    "    cv2.setMouseCallback(\"image\", select_points_plan)\n",
    "\n",
    "    while True:\n",
    "        cv2.imshow(\"image\", image)\n",
    "        key = cv2.waitKey(1) & 0xFF\n",
    "        if key == ord(\"q\"):\n",
    "            break\n",
    "\n",
    "    cv2.destroyAllWindows()\n",
    "\n",
    "    # copy points and add the height to the points\n",
    "    return np.array(points)"
   ]
  },
  {
   "cell_type": "code",
   "execution_count": 41,
   "id": "9c1afd81",
   "metadata": {},
   "outputs": [
    {
     "name": "stdout",
     "output_type": "stream",
     "text": [
      "floor plan point selected: [505, 894, 0]\n",
      "floor plan point selected: [452, 895, 0]\n",
      "floor plan point selected: [451, 575, 0]\n",
      "floor plan point selected: [329, 896, 0]\n",
      "floor plan point selected: [380, 894, 0]\n",
      "floor plan point selected: [379, 576, 0]\n",
      "floor plan point selected: [258, 886, 0]\n"
     ]
    }
   ],
   "source": [
    "floor_plan = cv2.imread(\"Ch4_floor_plan.png\")\n",
    "points = [create_volume(floor_plan, 120) for vol in range(3)]"
   ]
  },
  {
   "cell_type": "code",
   "execution_count": 42,
   "id": "a7c084e9",
   "metadata": {},
   "outputs": [
    {
     "data": {
      "application/vnd.plotly.v1+json": {
       "config": {
        "plotlyServerURL": "https://plot.ly"
       },
       "data": [
        {
         "marker": {
          "size": 2
         },
         "mode": "lines",
         "type": "scatter3d",
         "x": [
          505,
          452,
          451,
          505,
          452,
          451
         ],
         "y": [
          894,
          895,
          575,
          894,
          895,
          575
         ],
         "z": [
          0,
          0,
          0,
          120,
          120,
          120
         ]
        },
        {
         "marker": {
          "size": 2
         },
         "mode": "lines",
         "type": "scatter3d",
         "x": [
          329,
          380,
          379,
          329,
          380,
          379
         ],
         "y": [
          896,
          894,
          576,
          896,
          894,
          576
         ],
         "z": [
          0,
          0,
          0,
          120,
          120,
          120
         ]
        },
        {
         "marker": {
          "size": 2
         },
         "mode": "lines",
         "type": "scatter3d",
         "x": [
          258,
          258
         ],
         "y": [
          886,
          886
         ],
         "z": [
          0,
          120
         ]
        },
        {
         "marker": {
          "color": "red",
          "size": 5
         },
         "mode": "markers",
         "type": "scatter3d",
         "x": [
          505
         ],
         "y": [
          894
         ],
         "z": [
          0
         ]
        }
       ],
       "layout": {
        "scene": {
         "aspectmode": "manual",
         "aspectratio": {
          "x": 1,
          "y": 1,
          "z": 1
         },
         "xaxis": {
          "autorange": false,
          "range": [
           650,
           0
          ]
         },
         "yaxis": {
          "autorange": false,
          "range": [
           0,
           1046
          ]
         },
         "zaxis": {
          "autorange": false,
          "range": [
           0,
           650
          ]
         }
        },
        "template": {
         "data": {
          "bar": [
           {
            "error_x": {
             "color": "#2a3f5f"
            },
            "error_y": {
             "color": "#2a3f5f"
            },
            "marker": {
             "line": {
              "color": "#E5ECF6",
              "width": 0.5
             },
             "pattern": {
              "fillmode": "overlay",
              "size": 10,
              "solidity": 0.2
             }
            },
            "type": "bar"
           }
          ],
          "barpolar": [
           {
            "marker": {
             "line": {
              "color": "#E5ECF6",
              "width": 0.5
             },
             "pattern": {
              "fillmode": "overlay",
              "size": 10,
              "solidity": 0.2
             }
            },
            "type": "barpolar"
           }
          ],
          "carpet": [
           {
            "aaxis": {
             "endlinecolor": "#2a3f5f",
             "gridcolor": "white",
             "linecolor": "white",
             "minorgridcolor": "white",
             "startlinecolor": "#2a3f5f"
            },
            "baxis": {
             "endlinecolor": "#2a3f5f",
             "gridcolor": "white",
             "linecolor": "white",
             "minorgridcolor": "white",
             "startlinecolor": "#2a3f5f"
            },
            "type": "carpet"
           }
          ],
          "choropleth": [
           {
            "colorbar": {
             "outlinewidth": 0,
             "ticks": ""
            },
            "type": "choropleth"
           }
          ],
          "contour": [
           {
            "colorbar": {
             "outlinewidth": 0,
             "ticks": ""
            },
            "colorscale": [
             [
              0,
              "#0d0887"
             ],
             [
              0.1111111111111111,
              "#46039f"
             ],
             [
              0.2222222222222222,
              "#7201a8"
             ],
             [
              0.3333333333333333,
              "#9c179e"
             ],
             [
              0.4444444444444444,
              "#bd3786"
             ],
             [
              0.5555555555555556,
              "#d8576b"
             ],
             [
              0.6666666666666666,
              "#ed7953"
             ],
             [
              0.7777777777777778,
              "#fb9f3a"
             ],
             [
              0.8888888888888888,
              "#fdca26"
             ],
             [
              1,
              "#f0f921"
             ]
            ],
            "type": "contour"
           }
          ],
          "contourcarpet": [
           {
            "colorbar": {
             "outlinewidth": 0,
             "ticks": ""
            },
            "type": "contourcarpet"
           }
          ],
          "heatmap": [
           {
            "colorbar": {
             "outlinewidth": 0,
             "ticks": ""
            },
            "colorscale": [
             [
              0,
              "#0d0887"
             ],
             [
              0.1111111111111111,
              "#46039f"
             ],
             [
              0.2222222222222222,
              "#7201a8"
             ],
             [
              0.3333333333333333,
              "#9c179e"
             ],
             [
              0.4444444444444444,
              "#bd3786"
             ],
             [
              0.5555555555555556,
              "#d8576b"
             ],
             [
              0.6666666666666666,
              "#ed7953"
             ],
             [
              0.7777777777777778,
              "#fb9f3a"
             ],
             [
              0.8888888888888888,
              "#fdca26"
             ],
             [
              1,
              "#f0f921"
             ]
            ],
            "type": "heatmap"
           }
          ],
          "heatmapgl": [
           {
            "colorbar": {
             "outlinewidth": 0,
             "ticks": ""
            },
            "colorscale": [
             [
              0,
              "#0d0887"
             ],
             [
              0.1111111111111111,
              "#46039f"
             ],
             [
              0.2222222222222222,
              "#7201a8"
             ],
             [
              0.3333333333333333,
              "#9c179e"
             ],
             [
              0.4444444444444444,
              "#bd3786"
             ],
             [
              0.5555555555555556,
              "#d8576b"
             ],
             [
              0.6666666666666666,
              "#ed7953"
             ],
             [
              0.7777777777777778,
              "#fb9f3a"
             ],
             [
              0.8888888888888888,
              "#fdca26"
             ],
             [
              1,
              "#f0f921"
             ]
            ],
            "type": "heatmapgl"
           }
          ],
          "histogram": [
           {
            "marker": {
             "pattern": {
              "fillmode": "overlay",
              "size": 10,
              "solidity": 0.2
             }
            },
            "type": "histogram"
           }
          ],
          "histogram2d": [
           {
            "colorbar": {
             "outlinewidth": 0,
             "ticks": ""
            },
            "colorscale": [
             [
              0,
              "#0d0887"
             ],
             [
              0.1111111111111111,
              "#46039f"
             ],
             [
              0.2222222222222222,
              "#7201a8"
             ],
             [
              0.3333333333333333,
              "#9c179e"
             ],
             [
              0.4444444444444444,
              "#bd3786"
             ],
             [
              0.5555555555555556,
              "#d8576b"
             ],
             [
              0.6666666666666666,
              "#ed7953"
             ],
             [
              0.7777777777777778,
              "#fb9f3a"
             ],
             [
              0.8888888888888888,
              "#fdca26"
             ],
             [
              1,
              "#f0f921"
             ]
            ],
            "type": "histogram2d"
           }
          ],
          "histogram2dcontour": [
           {
            "colorbar": {
             "outlinewidth": 0,
             "ticks": ""
            },
            "colorscale": [
             [
              0,
              "#0d0887"
             ],
             [
              0.1111111111111111,
              "#46039f"
             ],
             [
              0.2222222222222222,
              "#7201a8"
             ],
             [
              0.3333333333333333,
              "#9c179e"
             ],
             [
              0.4444444444444444,
              "#bd3786"
             ],
             [
              0.5555555555555556,
              "#d8576b"
             ],
             [
              0.6666666666666666,
              "#ed7953"
             ],
             [
              0.7777777777777778,
              "#fb9f3a"
             ],
             [
              0.8888888888888888,
              "#fdca26"
             ],
             [
              1,
              "#f0f921"
             ]
            ],
            "type": "histogram2dcontour"
           }
          ],
          "mesh3d": [
           {
            "colorbar": {
             "outlinewidth": 0,
             "ticks": ""
            },
            "type": "mesh3d"
           }
          ],
          "parcoords": [
           {
            "line": {
             "colorbar": {
              "outlinewidth": 0,
              "ticks": ""
             }
            },
            "type": "parcoords"
           }
          ],
          "pie": [
           {
            "automargin": true,
            "type": "pie"
           }
          ],
          "scatter": [
           {
            "fillpattern": {
             "fillmode": "overlay",
             "size": 10,
             "solidity": 0.2
            },
            "type": "scatter"
           }
          ],
          "scatter3d": [
           {
            "line": {
             "colorbar": {
              "outlinewidth": 0,
              "ticks": ""
             }
            },
            "marker": {
             "colorbar": {
              "outlinewidth": 0,
              "ticks": ""
             }
            },
            "type": "scatter3d"
           }
          ],
          "scattercarpet": [
           {
            "marker": {
             "colorbar": {
              "outlinewidth": 0,
              "ticks": ""
             }
            },
            "type": "scattercarpet"
           }
          ],
          "scattergeo": [
           {
            "marker": {
             "colorbar": {
              "outlinewidth": 0,
              "ticks": ""
             }
            },
            "type": "scattergeo"
           }
          ],
          "scattergl": [
           {
            "marker": {
             "colorbar": {
              "outlinewidth": 0,
              "ticks": ""
             }
            },
            "type": "scattergl"
           }
          ],
          "scattermapbox": [
           {
            "marker": {
             "colorbar": {
              "outlinewidth": 0,
              "ticks": ""
             }
            },
            "type": "scattermapbox"
           }
          ],
          "scatterpolar": [
           {
            "marker": {
             "colorbar": {
              "outlinewidth": 0,
              "ticks": ""
             }
            },
            "type": "scatterpolar"
           }
          ],
          "scatterpolargl": [
           {
            "marker": {
             "colorbar": {
              "outlinewidth": 0,
              "ticks": ""
             }
            },
            "type": "scatterpolargl"
           }
          ],
          "scatterternary": [
           {
            "marker": {
             "colorbar": {
              "outlinewidth": 0,
              "ticks": ""
             }
            },
            "type": "scatterternary"
           }
          ],
          "surface": [
           {
            "colorbar": {
             "outlinewidth": 0,
             "ticks": ""
            },
            "colorscale": [
             [
              0,
              "#0d0887"
             ],
             [
              0.1111111111111111,
              "#46039f"
             ],
             [
              0.2222222222222222,
              "#7201a8"
             ],
             [
              0.3333333333333333,
              "#9c179e"
             ],
             [
              0.4444444444444444,
              "#bd3786"
             ],
             [
              0.5555555555555556,
              "#d8576b"
             ],
             [
              0.6666666666666666,
              "#ed7953"
             ],
             [
              0.7777777777777778,
              "#fb9f3a"
             ],
             [
              0.8888888888888888,
              "#fdca26"
             ],
             [
              1,
              "#f0f921"
             ]
            ],
            "type": "surface"
           }
          ],
          "table": [
           {
            "cells": {
             "fill": {
              "color": "#EBF0F8"
             },
             "line": {
              "color": "white"
             }
            },
            "header": {
             "fill": {
              "color": "#C8D4E3"
             },
             "line": {
              "color": "white"
             }
            },
            "type": "table"
           }
          ]
         },
         "layout": {
          "annotationdefaults": {
           "arrowcolor": "#2a3f5f",
           "arrowhead": 0,
           "arrowwidth": 1
          },
          "autotypenumbers": "strict",
          "coloraxis": {
           "colorbar": {
            "outlinewidth": 0,
            "ticks": ""
           }
          },
          "colorscale": {
           "diverging": [
            [
             0,
             "#8e0152"
            ],
            [
             0.1,
             "#c51b7d"
            ],
            [
             0.2,
             "#de77ae"
            ],
            [
             0.3,
             "#f1b6da"
            ],
            [
             0.4,
             "#fde0ef"
            ],
            [
             0.5,
             "#f7f7f7"
            ],
            [
             0.6,
             "#e6f5d0"
            ],
            [
             0.7,
             "#b8e186"
            ],
            [
             0.8,
             "#7fbc41"
            ],
            [
             0.9,
             "#4d9221"
            ],
            [
             1,
             "#276419"
            ]
           ],
           "sequential": [
            [
             0,
             "#0d0887"
            ],
            [
             0.1111111111111111,
             "#46039f"
            ],
            [
             0.2222222222222222,
             "#7201a8"
            ],
            [
             0.3333333333333333,
             "#9c179e"
            ],
            [
             0.4444444444444444,
             "#bd3786"
            ],
            [
             0.5555555555555556,
             "#d8576b"
            ],
            [
             0.6666666666666666,
             "#ed7953"
            ],
            [
             0.7777777777777778,
             "#fb9f3a"
            ],
            [
             0.8888888888888888,
             "#fdca26"
            ],
            [
             1,
             "#f0f921"
            ]
           ],
           "sequentialminus": [
            [
             0,
             "#0d0887"
            ],
            [
             0.1111111111111111,
             "#46039f"
            ],
            [
             0.2222222222222222,
             "#7201a8"
            ],
            [
             0.3333333333333333,
             "#9c179e"
            ],
            [
             0.4444444444444444,
             "#bd3786"
            ],
            [
             0.5555555555555556,
             "#d8576b"
            ],
            [
             0.6666666666666666,
             "#ed7953"
            ],
            [
             0.7777777777777778,
             "#fb9f3a"
            ],
            [
             0.8888888888888888,
             "#fdca26"
            ],
            [
             1,
             "#f0f921"
            ]
           ]
          },
          "colorway": [
           "#636efa",
           "#EF553B",
           "#00cc96",
           "#ab63fa",
           "#FFA15A",
           "#19d3f3",
           "#FF6692",
           "#B6E880",
           "#FF97FF",
           "#FECB52"
          ],
          "font": {
           "color": "#2a3f5f"
          },
          "geo": {
           "bgcolor": "white",
           "lakecolor": "white",
           "landcolor": "#E5ECF6",
           "showlakes": true,
           "showland": true,
           "subunitcolor": "white"
          },
          "hoverlabel": {
           "align": "left"
          },
          "hovermode": "closest",
          "mapbox": {
           "style": "light"
          },
          "paper_bgcolor": "white",
          "plot_bgcolor": "#E5ECF6",
          "polar": {
           "angularaxis": {
            "gridcolor": "white",
            "linecolor": "white",
            "ticks": ""
           },
           "bgcolor": "#E5ECF6",
           "radialaxis": {
            "gridcolor": "white",
            "linecolor": "white",
            "ticks": ""
           }
          },
          "scene": {
           "xaxis": {
            "backgroundcolor": "#E5ECF6",
            "gridcolor": "white",
            "gridwidth": 2,
            "linecolor": "white",
            "showbackground": true,
            "ticks": "",
            "zerolinecolor": "white"
           },
           "yaxis": {
            "backgroundcolor": "#E5ECF6",
            "gridcolor": "white",
            "gridwidth": 2,
            "linecolor": "white",
            "showbackground": true,
            "ticks": "",
            "zerolinecolor": "white"
           },
           "zaxis": {
            "backgroundcolor": "#E5ECF6",
            "gridcolor": "white",
            "gridwidth": 2,
            "linecolor": "white",
            "showbackground": true,
            "ticks": "",
            "zerolinecolor": "white"
           }
          },
          "shapedefaults": {
           "line": {
            "color": "#2a3f5f"
           }
          },
          "ternary": {
           "aaxis": {
            "gridcolor": "white",
            "linecolor": "white",
            "ticks": ""
           },
           "baxis": {
            "gridcolor": "white",
            "linecolor": "white",
            "ticks": ""
           },
           "bgcolor": "#E5ECF6",
           "caxis": {
            "gridcolor": "white",
            "linecolor": "white",
            "ticks": ""
           }
          },
          "title": {
           "x": 0.05
          },
          "xaxis": {
           "automargin": true,
           "gridcolor": "white",
           "linecolor": "white",
           "ticks": "",
           "title": {
            "standoff": 15
           },
           "zerolinecolor": "white",
           "zerolinewidth": 2
          },
          "yaxis": {
           "automargin": true,
           "gridcolor": "white",
           "linecolor": "white",
           "ticks": "",
           "title": {
            "standoff": 15
           },
           "zerolinecolor": "white",
           "zerolinewidth": 2
          }
         }
        }
       }
      }
     },
     "metadata": {},
     "output_type": "display_data"
    }
   ],
   "source": [
    "import plotly.graph_objs as go\n",
    "\n",
    "# create a layout\n",
    "layout = go.Layout(scene=dict(xaxis=dict(range=[650, 0], autorange=False),\n",
    "                              yaxis=dict(range=[0, 1046], autorange=False),\n",
    "                              zaxis=dict(range=[0, 650], autorange=False),\n",
    "                              aspectmode='manual',\n",
    "                              aspectratio=dict(x=1, y=1, z=1)))\n",
    "\n",
    "# create a scatter plot\n",
    "red_dot = points[0][0]\n",
    "plots = [go.Scatter3d(x=vol[:,0], y=vol[:,1], z=vol[:,2], mode='lines', marker=dict(size=2)) for vol in points]\n",
    "plots.append(go.Scatter3d(x=[red_dot[0]], y=[red_dot[1]], z=[red_dot[2]], mode='markers', marker=dict(size=5, color='red')))\n",
    "\n",
    "# create a figure\n",
    "fig = go.Figure(data=plots, layout=layout)\n",
    "\n",
    "# show the figure\n",
    "fig.show()"
   ]
  },
  {
   "cell_type": "code",
   "execution_count": 43,
   "id": "c1b77da4",
   "metadata": {},
   "outputs": [
    {
     "data": {
      "text/plain": [
       "array([[505, 894,   0],\n",
       "       [452, 895,   0],\n",
       "       [451, 575,   0],\n",
       "       [505, 894, 120],\n",
       "       [452, 895, 120],\n",
       "       [451, 575, 120],\n",
       "       [329, 896,   0],\n",
       "       [380, 894,   0],\n",
       "       [379, 576,   0],\n",
       "       [329, 896, 120],\n",
       "       [380, 894, 120],\n",
       "       [379, 576, 120],\n",
       "       [258, 886,   0],\n",
       "       [258, 886, 120]])"
      ]
     },
     "execution_count": 43,
     "metadata": {},
     "output_type": "execute_result"
    }
   ],
   "source": [
    "object_points_pre = np.concatenate(points)\n",
    "object_points_pre"
   ]
  },
  {
   "cell_type": "code",
   "execution_count": 44,
   "id": "b95ba7f2",
   "metadata": {},
   "outputs": [
    {
     "name": "stdout",
     "output_type": "stream",
     "text": [
      "floor plan point selected: [1925, 1258]\n",
      "floor plan point selected: [1554, 1268]\n",
      "floor plan point selected: [1411, 483]\n",
      "floor plan point selected: [2075, 723]\n",
      "floor plan point selected: [1617, 701]\n",
      "floor plan point selected: [1427, 210]\n",
      "floor plan point selected: [554, 1270]\n",
      "floor plan point selected: [918, 1275]\n",
      "floor plan point selected: [1121, 484]\n",
      "floor plan point selected: [401, 721]\n",
      "floor plan point selected: [768, 717]\n",
      "floor plan point selected: [1094, 228]\n",
      "floor plan point selected: [237, 1038]\n",
      "floor plan point selected: [74, 751]\n"
     ]
    },
    {
     "data": {
      "text/plain": [
       "array([[1925, 1258],\n",
       "       [1554, 1268],\n",
       "       [1411,  483],\n",
       "       [2075,  723],\n",
       "       [1617,  701],\n",
       "       [1427,  210],\n",
       "       [ 554, 1270],\n",
       "       [ 918, 1275],\n",
       "       [1121,  484],\n",
       "       [ 401,  721],\n",
       "       [ 768,  717],\n",
       "       [1094,  228],\n",
       "       [ 237, 1038],\n",
       "       [  74,  751]])"
      ]
     },
     "execution_count": 44,
     "metadata": {},
     "output_type": "execute_result"
    }
   ],
   "source": [
    "image_points_pre = create_image_association()"
   ]
  },
  {
   "cell_type": "code",
   "execution_count": 70,
   "id": "222bb3b6",
   "metadata": {},
   "outputs": [
    {
     "data": {
      "text/plain": [
       "array([[1925, 1258],\n",
       "       [1554, 1268],\n",
       "       [1411,  483],\n",
       "       [2075,  723],\n",
       "       [1617,  701],\n",
       "       [1427,  210],\n",
       "       [ 554, 1270],\n",
       "       [ 918, 1275],\n",
       "       [1121,  484],\n",
       "       [ 401,  721],\n",
       "       [ 768,  717],\n",
       "       [1094,  228],\n",
       "       [ 237, 1038],\n",
       "       [  74,  751]])"
      ]
     },
     "execution_count": 70,
     "metadata": {},
     "output_type": "execute_result"
    }
   ],
   "source": [
    "image_points_pre"
   ]
  },
  {
   "cell_type": "code",
   "execution_count": 45,
   "id": "ea5726e5",
   "metadata": {},
   "outputs": [],
   "source": [
    "# Initialize the camera matrix and distortion coefficients\n",
    "camera_matrix = np.array([[1, 0, 0], [0, 1, 0], [0, 0, 1]], dtype=np.float32)\n",
    "dist_coeffs = np.zeros((5, 1), dtype=np.float32)"
   ]
  },
  {
   "cell_type": "code",
   "execution_count": 84,
   "id": "6061226d",
   "metadata": {},
   "outputs": [],
   "source": [
    "object_points = object_points_pre.reshape(14,3,1)\n",
    "image_points = image_points_pre.reshape(14,2,1)\n",
    "object_points = object_points.astype(np.float32)\n",
    "image_points = image_points.astype(np.float32)"
   ]
  },
  {
   "cell_type": "code",
   "execution_count": 85,
   "id": "8395b83f",
   "metadata": {},
   "outputs": [
    {
     "data": {
      "text/plain": [
       "((14, 3, 1), (14, 2, 1), (3, 3), (5, 1))"
      ]
     },
     "execution_count": 85,
     "metadata": {},
     "output_type": "execute_result"
    }
   ],
   "source": [
    "object_points_pre.reshape(14,3,1).shape, image_points.shape, camera_matrix.shape, dist_coeffs.shape"
   ]
  },
  {
   "cell_type": "code",
   "execution_count": 86,
   "id": "e430a3ed",
   "metadata": {},
   "outputs": [
    {
     "data": {
      "text/plain": [
       "(dtype('float32'), dtype('float32'), dtype('float32'), dtype('float32'))"
      ]
     },
     "execution_count": 86,
     "metadata": {},
     "output_type": "execute_result"
    }
   ],
   "source": [
    "object_points.dtype, image_points.dtype, camera_matrix.dtype, dist_coeffs.dtype"
   ]
  },
  {
   "cell_type": "code",
   "execution_count": 87,
   "id": "84b37ab1",
   "metadata": {},
   "outputs": [],
   "source": [
    "\n",
    "# Solve for the projection matrix\n",
    "ret, rvec, tvec = cv2.solvePnP(object_points, image_points, camera_matrix, dist_coeffs)"
   ]
  },
  {
   "cell_type": "code",
   "execution_count": 90,
   "id": "0547e393",
   "metadata": {},
   "outputs": [
    {
     "data": {
      "text/plain": [
       "(True,\n",
       " array([[-1894.98729869],\n",
       "        [-3437.7872221 ],\n",
       "        [ 2115.60847867]]),\n",
       " array([[245634.77959094],\n",
       "        [155092.01276606],\n",
       "        [   652.5197138 ]]))"
      ]
     },
     "execution_count": 90,
     "metadata": {},
     "output_type": "execute_result"
    }
   ],
   "source": [
    "ret, rvec, tvec"
   ]
  },
  {
   "cell_type": "code",
   "execution_count": 125,
   "id": "e35636e5",
   "metadata": {},
   "outputs": [],
   "source": [
    "\n",
    "# Projection matrix (3x4)\n",
    "projectionMatrix, _ = cv2.projectPoints(object_points, rvec, tvec, camera_matrix, dist_coeffs)"
   ]
  },
  {
   "cell_type": "code",
   "execution_count": 126,
   "id": "68bbb20a",
   "metadata": {},
   "outputs": [
    {
     "data": {
      "text/plain": [
       "array([[[1989.9049 , 1255.8688 ]],\n",
       "\n",
       "       [[1394.6475 ,  880.2111 ]],\n",
       "\n",
       "       [[1319.2701 ,  832.69763]],\n",
       "\n",
       "       [[1879.0109 , 1184.802  ]],\n",
       "\n",
       "       [[1339.3475 ,  844.54004]],\n",
       "\n",
       "       [[1269.6432 ,  800.64386]],\n",
       "\n",
       "       [[ 823.07355,  519.4999 ]],\n",
       "\n",
       "       [[ 991.3915 ,  625.7229 ]],\n",
       "\n",
       "       [[ 952.6127 ,  601.29034]],\n",
       "\n",
       "       [[ 803.57434,  506.731  ]],\n",
       "\n",
       "       [[ 963.1905 ,  607.37036]],\n",
       "\n",
       "       [[ 926.5263 ,  584.29175]],\n",
       "\n",
       "       [[ 665.0573 ,  419.7793 ]],\n",
       "\n",
       "       [[ 652.2983 ,  411.35117]]], dtype=float32)"
      ]
     },
     "execution_count": 126,
     "metadata": {},
     "output_type": "execute_result"
    }
   ],
   "source": [
    "projectionMatrix"
   ]
  },
  {
   "cell_type": "code",
   "execution_count": 110,
   "id": "76eb232f",
   "metadata": {},
   "outputs": [
    {
     "data": {
      "text/plain": [
       "(array([[-1.04484533e-03,  1.28295639e-03,  4.46846177e-04,\n",
       "         -9.31608840e-01],\n",
       "        [ 3.14599779e-04, -4.51213351e-06,  1.08737493e-03,\n",
       "         -3.63454687e-01],\n",
       "        [ 3.75132794e-07,  9.55680445e-07,  3.28975413e-07,\n",
       "         -1.20004307e-03]]),\n",
       " array([[-5.050000e+02, -8.940000e+02, -0.000000e+00, -1.000000e+00,\n",
       "          0.000000e+00,  0.000000e+00,  0.000000e+00,  0.000000e+00,\n",
       "          9.721250e+05,  1.720950e+06,  0.000000e+00,  1.925000e+03],\n",
       "        [ 0.000000e+00,  0.000000e+00,  0.000000e+00,  0.000000e+00,\n",
       "         -5.050000e+02, -8.940000e+02, -0.000000e+00, -1.000000e+00,\n",
       "          6.352900e+05,  1.124652e+06,  0.000000e+00,  1.258000e+03],\n",
       "        [-4.520000e+02, -8.950000e+02, -0.000000e+00, -1.000000e+00,\n",
       "          0.000000e+00,  0.000000e+00,  0.000000e+00,  0.000000e+00,\n",
       "          7.024080e+05,  1.390830e+06,  0.000000e+00,  1.554000e+03],\n",
       "        [ 0.000000e+00,  0.000000e+00,  0.000000e+00,  0.000000e+00,\n",
       "         -4.520000e+02, -8.950000e+02, -0.000000e+00, -1.000000e+00,\n",
       "          5.731360e+05,  1.134860e+06,  0.000000e+00,  1.268000e+03],\n",
       "        [-4.510000e+02, -5.750000e+02, -0.000000e+00, -1.000000e+00,\n",
       "          0.000000e+00,  0.000000e+00,  0.000000e+00,  0.000000e+00,\n",
       "          6.363610e+05,  8.113250e+05,  0.000000e+00,  1.411000e+03],\n",
       "        [ 0.000000e+00,  0.000000e+00,  0.000000e+00,  0.000000e+00,\n",
       "         -4.510000e+02, -5.750000e+02, -0.000000e+00, -1.000000e+00,\n",
       "          2.178330e+05,  2.777250e+05,  0.000000e+00,  4.830000e+02],\n",
       "        [-5.050000e+02, -8.940000e+02, -1.200000e+02, -1.000000e+00,\n",
       "          0.000000e+00,  0.000000e+00,  0.000000e+00,  0.000000e+00,\n",
       "          1.047875e+06,  1.855050e+06,  2.490000e+05,  2.075000e+03],\n",
       "        [ 0.000000e+00,  0.000000e+00,  0.000000e+00,  0.000000e+00,\n",
       "         -5.050000e+02, -8.940000e+02, -1.200000e+02, -1.000000e+00,\n",
       "          3.651150e+05,  6.463620e+05,  8.676000e+04,  7.230000e+02],\n",
       "        [-4.520000e+02, -8.950000e+02, -1.200000e+02, -1.000000e+00,\n",
       "          0.000000e+00,  0.000000e+00,  0.000000e+00,  0.000000e+00,\n",
       "          7.308840e+05,  1.447215e+06,  1.940400e+05,  1.617000e+03],\n",
       "        [ 0.000000e+00,  0.000000e+00,  0.000000e+00,  0.000000e+00,\n",
       "         -4.520000e+02, -8.950000e+02, -1.200000e+02, -1.000000e+00,\n",
       "          3.168520e+05,  6.273950e+05,  8.412000e+04,  7.010000e+02],\n",
       "        [-4.510000e+02, -5.750000e+02, -1.200000e+02, -1.000000e+00,\n",
       "          0.000000e+00,  0.000000e+00,  0.000000e+00,  0.000000e+00,\n",
       "          6.435770e+05,  8.205250e+05,  1.712400e+05,  1.427000e+03],\n",
       "        [ 0.000000e+00,  0.000000e+00,  0.000000e+00,  0.000000e+00,\n",
       "         -4.510000e+02, -5.750000e+02, -1.200000e+02, -1.000000e+00,\n",
       "          9.471000e+04,  1.207500e+05,  2.520000e+04,  2.100000e+02],\n",
       "        [-3.290000e+02, -8.960000e+02, -0.000000e+00, -1.000000e+00,\n",
       "          0.000000e+00,  0.000000e+00,  0.000000e+00,  0.000000e+00,\n",
       "          1.822660e+05,  4.963840e+05,  0.000000e+00,  5.540000e+02],\n",
       "        [ 0.000000e+00,  0.000000e+00,  0.000000e+00,  0.000000e+00,\n",
       "         -3.290000e+02, -8.960000e+02, -0.000000e+00, -1.000000e+00,\n",
       "          4.178300e+05,  1.137920e+06,  0.000000e+00,  1.270000e+03],\n",
       "        [-3.800000e+02, -8.940000e+02, -0.000000e+00, -1.000000e+00,\n",
       "          0.000000e+00,  0.000000e+00,  0.000000e+00,  0.000000e+00,\n",
       "          3.488400e+05,  8.206920e+05,  0.000000e+00,  9.180000e+02],\n",
       "        [ 0.000000e+00,  0.000000e+00,  0.000000e+00,  0.000000e+00,\n",
       "         -3.800000e+02, -8.940000e+02, -0.000000e+00, -1.000000e+00,\n",
       "          4.845000e+05,  1.139850e+06,  0.000000e+00,  1.275000e+03],\n",
       "        [-3.790000e+02, -5.760000e+02, -0.000000e+00, -1.000000e+00,\n",
       "          0.000000e+00,  0.000000e+00,  0.000000e+00,  0.000000e+00,\n",
       "          4.248590e+05,  6.456960e+05,  0.000000e+00,  1.121000e+03],\n",
       "        [ 0.000000e+00,  0.000000e+00,  0.000000e+00,  0.000000e+00,\n",
       "         -3.790000e+02, -5.760000e+02, -0.000000e+00, -1.000000e+00,\n",
       "          1.834360e+05,  2.787840e+05,  0.000000e+00,  4.840000e+02],\n",
       "        [-3.290000e+02, -8.960000e+02, -1.200000e+02, -1.000000e+00,\n",
       "          0.000000e+00,  0.000000e+00,  0.000000e+00,  0.000000e+00,\n",
       "          1.319290e+05,  3.592960e+05,  4.812000e+04,  4.010000e+02],\n",
       "        [ 0.000000e+00,  0.000000e+00,  0.000000e+00,  0.000000e+00,\n",
       "         -3.290000e+02, -8.960000e+02, -1.200000e+02, -1.000000e+00,\n",
       "          2.372090e+05,  6.460160e+05,  8.652000e+04,  7.210000e+02],\n",
       "        [-3.800000e+02, -8.940000e+02, -1.200000e+02, -1.000000e+00,\n",
       "          0.000000e+00,  0.000000e+00,  0.000000e+00,  0.000000e+00,\n",
       "          2.918400e+05,  6.865920e+05,  9.216000e+04,  7.680000e+02],\n",
       "        [ 0.000000e+00,  0.000000e+00,  0.000000e+00,  0.000000e+00,\n",
       "         -3.800000e+02, -8.940000e+02, -1.200000e+02, -1.000000e+00,\n",
       "          2.724600e+05,  6.409980e+05,  8.604000e+04,  7.170000e+02],\n",
       "        [-3.790000e+02, -5.760000e+02, -1.200000e+02, -1.000000e+00,\n",
       "          0.000000e+00,  0.000000e+00,  0.000000e+00,  0.000000e+00,\n",
       "          4.146260e+05,  6.301440e+05,  1.312800e+05,  1.094000e+03],\n",
       "        [ 0.000000e+00,  0.000000e+00,  0.000000e+00,  0.000000e+00,\n",
       "         -3.790000e+02, -5.760000e+02, -1.200000e+02, -1.000000e+00,\n",
       "          8.641200e+04,  1.313280e+05,  2.736000e+04,  2.280000e+02],\n",
       "        [-2.580000e+02, -8.860000e+02, -0.000000e+00, -1.000000e+00,\n",
       "          0.000000e+00,  0.000000e+00,  0.000000e+00,  0.000000e+00,\n",
       "          6.114600e+04,  2.099820e+05,  0.000000e+00,  2.370000e+02],\n",
       "        [ 0.000000e+00,  0.000000e+00,  0.000000e+00,  0.000000e+00,\n",
       "         -2.580000e+02, -8.860000e+02, -0.000000e+00, -1.000000e+00,\n",
       "          2.678040e+05,  9.196680e+05,  0.000000e+00,  1.038000e+03],\n",
       "        [-2.580000e+02, -8.860000e+02, -1.200000e+02, -1.000000e+00,\n",
       "          0.000000e+00,  0.000000e+00,  0.000000e+00,  0.000000e+00,\n",
       "          1.909200e+04,  6.556400e+04,  8.880000e+03,  7.400000e+01],\n",
       "        [ 0.000000e+00,  0.000000e+00,  0.000000e+00,  0.000000e+00,\n",
       "         -2.580000e+02, -8.860000e+02, -1.200000e+02, -1.000000e+00,\n",
       "          1.937580e+05,  6.653860e+05,  9.012000e+04,  7.510000e+02]]))"
      ]
     },
     "execution_count": 110,
     "metadata": {},
     "output_type": "execute_result"
    }
   ],
   "source": [
    "P, A"
   ]
  },
  {
   "cell_type": "code",
   "execution_count": 121,
   "id": "6ca2e91f",
   "metadata": {},
   "outputs": [],
   "source": [
    "x = np.array([1925, 1258, 1]).dot(P)"
   ]
  },
  {
   "cell_type": "code",
   "execution_count": 123,
   "id": "939331e9",
   "metadata": {},
   "outputs": [
    {
     "data": {
      "text/plain": [
       "array([-1.61556037e+00,  2.46401575e+00,  2.22809688e+00, -2.25057421e+03])"
      ]
     },
     "execution_count": 123,
     "metadata": {},
     "output_type": "execute_result"
    }
   ],
   "source": [
    "x"
   ]
  },
  {
   "cell_type": "code",
   "execution_count": 120,
   "id": "87e4c9f2",
   "metadata": {},
   "outputs": [
    {
     "name": "stderr",
     "output_type": "stream",
     "text": [
      "/var/folders/8_/51vdws854m1218_v37ctyqj80000gn/T/ipykernel_39453/2638066416.py:10: DeprecationWarning:\n",
      "\n",
      "setting an array element with a sequence. This was supported in some cases where the elements are arrays with a single element. For example `np.array([1, np.array([2])], dtype=int)`. In the future this will raise the same ValueError as `np.array([1, [2]], dtype=int)`.\n",
      "\n",
      "/var/folders/8_/51vdws854m1218_v37ctyqj80000gn/T/ipykernel_39453/2638066416.py:11: DeprecationWarning:\n",
      "\n",
      "setting an array element with a sequence. This was supported in some cases where the elements are arrays with a single element. For example `np.array([1, np.array([2])], dtype=int)`. In the future this will raise the same ValueError as `np.array([1, [2]], dtype=int)`.\n",
      "\n"
     ]
    }
   ],
   "source": [
    "n = object_points.shape[0]\n",
    "u = image_points[:,0]\n",
    "v = image_points[:,1]\n",
    "X = object_points[:,0]\n",
    "Y = object_points[:,1]\n",
    "Z = object_points[:,2]\n",
    "A = np.zeros((2*n, 12))\n",
    "\n",
    "for i in range(n):\n",
    "    A[i*2]=[X[i], Y[i], Z[i], 1, 0, 0, 0, 0, -u[i]*X[i], -u[i]*Y[i], -u[i]*Z[i], -u[i]]\n",
    "    A[i*2+1]=[0, 0, 0, 0, X[i], Y[i], Z[i], 1, -v[i]*X[i], -v[i]*Y[i], -v[i]*Z[i], -v[i]]\n",
    "\n",
    "U, S, V = np.linalg.svd(A)\n",
    "P = V[-1].reshape(3, 4)\n",
    "\t"
   ]
  },
  {
   "cell_type": "code",
   "execution_count": 118,
   "id": "7185c838",
   "metadata": {},
   "outputs": [
    {
     "data": {
      "text/plain": [
       "array([[-1.04484533e-03,  1.28295639e-03,  4.46846177e-04,\n",
       "        -9.31608840e-01],\n",
       "       [ 3.14599779e-04, -4.51213353e-06,  1.08737493e-03,\n",
       "        -3.63454687e-01],\n",
       "       [ 3.75132794e-07,  9.55680445e-07,  3.28975413e-07,\n",
       "        -1.20004307e-03]])"
      ]
     },
     "execution_count": 118,
     "metadata": {},
     "output_type": "execute_result"
    }
   ],
   "source": [
    "P"
   ]
  }
 ],
 "metadata": {
  "kernelspec": {
   "display_name": "51",
   "language": "python",
   "name": "python3"
  },
  "language_info": {
   "codemirror_mode": {
    "name": "ipython",
    "version": 3
   },
   "file_extension": ".py",
   "mimetype": "text/x-python",
   "name": "python",
   "nbconvert_exporter": "python",
   "pygments_lexer": "ipython3",
   "version": "3.8.15"
  },
  "vscode": {
   "interpreter": {
    "hash": "fd0382a17d977ae70a6d9f6ae17e2e298f638338f50632a28ce50f70a766e34f"
   }
  }
 },
 "nbformat": 4,
 "nbformat_minor": 5
}
