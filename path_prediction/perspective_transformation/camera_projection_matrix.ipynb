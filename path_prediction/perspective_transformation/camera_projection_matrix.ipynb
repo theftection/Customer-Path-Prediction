{
 "cells": [
  {
   "cell_type": "markdown",
   "id": "d8dca34f",
   "metadata": {},
   "source": [
    "# Create 3d clone of the scene"
   ]
  },
  {
   "cell_type": "code",
   "execution_count": 56,
   "id": "51b8d828",
   "metadata": {},
   "outputs": [],
   "source": [
    "import cv2\n",
    "import numpy as np\n",
    "import matplotlib.pyplot as plt"
   ]
  },
  {
   "cell_type": "code",
   "execution_count": 57,
   "id": "cad39941",
   "metadata": {},
   "outputs": [],
   "source": [
    "def convert_to_homogeneous(points):\n",
    "    n = points.shape[0]\n",
    "    return np.concatenate((points, np.ones((n,1))), axis=1)"
   ]
  },
  {
   "cell_type": "code",
   "execution_count": 58,
   "id": "01c274a6",
   "metadata": {},
   "outputs": [],
   "source": [
    "def convert_to_cartesian(points):\n",
    "    return points[:,:-1]"
   ]
  },
  {
   "cell_type": "code",
   "execution_count": 59,
   "id": "fead16ab",
   "metadata": {},
   "outputs": [],
   "source": [
    "def normalize_and_homogenize_2d(points):\n",
    "    centroid = np.mean(points, axis=0)\n",
    "    centred_points = points - centroid\n",
    "    scale = np.sqrt(2) / np.mean(np.linalg.norm(centred_points, axis=1))\n",
    "    T = np.array([[scale, 0, -centroid[0] * scale],\n",
    "                  [0, scale, -centroid[1] * scale],\n",
    "                  [0, 0, 1]])\n",
    "    points = np.dot(T, convert_to_homogeneous(points).T).T\n",
    "    return points, T"
   ]
  },
  {
   "cell_type": "code",
   "execution_count": 60,
   "id": "f76c9756",
   "metadata": {},
   "outputs": [],
   "source": [
    "def normalize_and_homogenize_3d(points):\n",
    "    centroid = np.mean(points, axis=0)\n",
    "    centred_points = points - centroid\n",
    "    scale = np.sqrt(3) / np.mean(np.linalg.norm(centred_points, axis=1))\n",
    "    T = np.array([[scale, 0, 0, -centroid[0] * scale],\n",
    "                  [0, scale, 0, -centroid[1] * scale],\n",
    "                  [0, 0, scale, -centroid[2] * scale],\n",
    "                  [0, 0, 0, 1]])\n",
    "    points = np.dot(T, convert_to_homogeneous(points).T).T\n",
    "    return points, T"
   ]
  },
  {
   "cell_type": "code",
   "execution_count": 61,
   "id": "b415fbde",
   "metadata": {},
   "outputs": [
    {
     "name": "stdout",
     "output_type": "stream",
     "text": [
      "[[ 1.14458679  0.7688386  -0.72259267]\n",
      " [ 0.40754227  0.75438675 -0.72259267]\n",
      " [ 0.39309041 -2.98864329 -0.72259267]\n",
      " [ 1.14458679  0.7688386   0.72259267]\n",
      " [ 0.40754227  0.75438675  0.72259267]\n",
      " [ 0.39309041 -2.98864329  0.72259267]\n",
      " [-0.60408747  0.72548304 -0.72259267]\n",
      " [-1.341132    0.7399349  -0.72259267]\n",
      " [-0.60408747  0.72548304  0.72259267]\n",
      " [-1.341132    0.7399349   0.72259267]]\n",
      "1.7320508075688772\n",
      "[-2.66453526e-16  0.00000000e+00  0.00000000e+00]\n"
     ]
    }
   ],
   "source": [
    "points_3d = np.array([[372, 808,   0],\n",
    "                      [321, 807,   0],\n",
    "                      [320, 548,   0],\n",
    "                      [372, 808, 100],\n",
    "                      [321, 807, 100],\n",
    "                      [320, 548, 100],\n",
    "                      [251, 805,   0],\n",
    "                      [200, 806,   0],\n",
    "                      [251, 805, 100],\n",
    "                      [200, 806, 100]])\n",
    "points_3d, N3 = normalize_and_homogenize_3d(points_3d)\n",
    "points_3d = convert_to_cartesian(points_3d)\n",
    "print(points_3d)\n",
    "print(np.mean(np.linalg.norm(points_3d, axis=1)))\n",
    "print(np.mean(points_3d, axis=0))"
   ]
  },
  {
   "cell_type": "code",
   "execution_count": 62,
   "id": "ab2b56c3",
   "metadata": {},
   "outputs": [
    {
     "name": "stdout",
     "output_type": "stream",
     "text": [
      "[[ 1.4784385   0.86930314]\n",
      " [ 0.64162851  0.9093632 ]\n",
      " [ 0.32114809 -0.88888806]\n",
      " [ 1.78779113 -0.33694955]\n",
      " [ 0.7818387  -0.35475402]\n",
      " [ 0.36565926 -1.48311217]\n",
      " [-0.7248644   0.96055104]\n",
      " [-1.60618556  0.91826543]\n",
      " [-1.12991604 -0.32582176]\n",
      " [-1.91553819 -0.26795724]]\n",
      "1.4142135623730951\n",
      "[-4.4408921e-17  4.4408921e-17]\n"
     ]
    }
   ],
   "source": [
    "points_2d = np.array([[1932, 1314],\n",
    "                      [1556, 1332],\n",
    "                      [1412,  524],\n",
    "                      [2071,  772],\n",
    "                      [1619,  764],\n",
    "                      [1432,  257],\n",
    "                      [ 942, 1355],\n",
    "                      [ 546, 1336],\n",
    "                      [ 760,  777],\n",
    "                      [ 407,  803]])\n",
    "points_2d, N2 = normalize_and_homogenize_2d(points_2d)\n",
    "points_2d = convert_to_cartesian(points_2d)\n",
    "print(points_2d)\n",
    "print(np.mean(np.linalg.norm(points_2d[:,:2], axis=1)))\n",
    "print(np.mean(points_2d[:,:2], axis=0))"
   ]
  },
  {
   "cell_type": "code",
   "execution_count": 63,
   "id": "01e988dd",
   "metadata": {},
   "outputs": [],
   "source": [
    "n = points_2d.shape[0]\n",
    "u = points_2d[:,0]\n",
    "v = points_2d[:,1]\n",
    "X = points_3d[:,0]\n",
    "Y = points_3d[:,1]\n",
    "Z = points_3d[:,2]\n",
    "A = np.zeros((2*n, 12))"
   ]
  },
  {
   "cell_type": "code",
   "execution_count": 64,
   "id": "1d183098",
   "metadata": {},
   "outputs": [],
   "source": [
    "for i in range(n):\n",
    "    A[2*i,:] = [X[i], Y[i], Z[i], 1, 0, 0, 0, 0, -u[i]*X[i], -u[i]*Y[i], -u[i]*Z[i], -u[i]]\n",
    "    A[2*i+1,:] = [0, 0, 0, 0, X[i], Y[i], Z[i], 1, -v[i]*X[i], -v[i]*Y[i], -v[i]*Z[i], -v[i]]"
   ]
  },
  {
   "attachments": {},
   "cell_type": "markdown",
   "id": "e812a365",
   "metadata": {},
   "source": [
    "## DLT algorithm"
   ]
  },
  {
   "cell_type": "code",
   "execution_count": 65,
   "id": "3b50cc5f",
   "metadata": {},
   "outputs": [],
   "source": [
    "U, S, V = np.linalg.svd(A)"
   ]
  },
  {
   "cell_type": "code",
   "execution_count": 66,
   "id": "76f55e64",
   "metadata": {},
   "outputs": [],
   "source": [
    "P = V[-1].reshape((3, 4))"
   ]
  },
  {
   "cell_type": "code",
   "execution_count": 67,
   "id": "ae7cdeea",
   "metadata": {},
   "outputs": [
    {
     "data": {
      "text/plain": [
       "array([[-0.57556511,  0.03843564,  0.00935864, -0.04306508],\n",
       "       [ 0.01800434, -0.39107181,  0.37715259,  0.14186805],\n",
       "       [ 0.00378313,  0.18979871,  0.06490066, -0.55625842]])"
      ]
     },
     "execution_count": 67,
     "metadata": {},
     "output_type": "execute_result"
    }
   ],
   "source": [
    "P"
   ]
  },
  {
   "attachments": {},
   "cell_type": "markdown",
   "id": "8628328a",
   "metadata": {},
   "source": [
    "## Evaluate"
   ]
  },
  {
   "cell_type": "code",
   "execution_count": 69,
   "id": "e4ba2d27",
   "metadata": {},
   "outputs": [],
   "source": [
    "def evaluate_points(M, Points_2D, Points_3D):\n",
    "\n",
    "    reshaped_points = np.concatenate(\n",
    "        (Points_3D, np.ones((Points_3D.shape[0], 1))), axis=1)\n",
    "    Projection = np.matmul(M, np.transpose(reshaped_points))\n",
    "    Projection = np.transpose(Projection)\n",
    "    u = np.divide(Projection[:, 0], Projection[:, 2])\n",
    "    v = np.divide(Projection[:, 1], Projection[:, 2])\n",
    "    Residual = np.sum(\n",
    "        np.power(\n",
    "            np.power(u - Points_2D[:, 0], 2) +\n",
    "            np.power(v - Points_2D[:, 1], 2), 0.5))\n",
    "    Projected_2D_Pts = np.transpose(np.vstack([u, v]))\n",
    "\n",
    "    return Projected_2D_Pts, Residual\n",
    "\n",
    "def visualize_points(Actual_Pts, Project_Pts):\n",
    "    plt.scatter(Actual_Pts[:, 0], Actual_Pts[:, 1], marker='o')\n",
    "    plt.scatter(Project_Pts[:, 0], Project_Pts[:, 1], marker='x')\n",
    "    plt.legend(('Actual Points', 'Projected Points'))\n",
    "    plt.show()"
   ]
  },
  {
   "cell_type": "code",
   "execution_count": 80,
   "id": "183f83ac",
   "metadata": {},
   "outputs": [
    {
     "name": "stdout",
     "output_type": "stream",
     "text": [
      "0.7912170091971891\n"
     ]
    }
   ],
   "source": [
    "pts, res = evaluate_points(P, points_2d, points_3d)\n",
    "print(res)"
   ]
  },
  {
   "cell_type": "code",
   "execution_count": 81,
   "id": "2841a3d7",
   "metadata": {},
   "outputs": [],
   "source": [
    "if 'renorm':\n",
    "    pts = convert_to_cartesian(np.dot(np.linalg.inv(N2), convert_to_homogeneous(pts).T).T)\n",
    "    points_2d = convert_to_cartesian(np.dot(np.linalg.inv(N2), convert_to_homogeneous(points_2d).T).T)"
   ]
  },
  {
   "cell_type": "code",
   "execution_count": 82,
   "id": "34d14cb0",
   "metadata": {},
   "outputs": [
    {
     "data": {
      "image/png": "[encoded data removed]",
      "text/plain": [
       "<Figure size 640x480 with 1 Axes>"
      ]
     },
     "metadata": {},
     "output_type": "display_data"
    }
   ],
   "source": [
    "visualize_points(points_2d, pts)"
   ]
  },
  {
   "attachments": {},
   "cell_type": "markdown",
   "id": "a758bdde",
   "metadata": {},
   "source": [
    "## Camera Centre"
   ]
  },
  {
   "cell_type": "code",
   "execution_count": 127,
   "id": "5bdf7e4c",
   "metadata": {},
   "outputs": [],
   "source": [
    "def compute_camera_center(P):\n",
    "    Q = np.split(P, [3], axis=1)\n",
    "    return np.squeeze(-np.matmul(np.linalg.inv(Q[0]), Q[1]))"
   ]
  },
  {
   "cell_type": "code",
   "execution_count": 128,
   "id": "58736a8c",
   "metadata": {},
   "outputs": [],
   "source": [
    "cen = compute_camera_center(P)"
   ]
  },
  {
   "cell_type": "code",
   "execution_count": 129,
   "id": "0e1d4593",
   "metadata": {},
   "outputs": [],
   "source": [
    "def plot3dview(Points_3D, camera_center1):\n",
    "    fig = plt.figure()\n",
    "    ax = fig.add_subplot(111, projection='3d')\n",
    "    ax.scatter(Points_3D[:, 0],\n",
    "               Points_3D[:, 1],\n",
    "               Points_3D[:, 2],\n",
    "               c='b',\n",
    "               marker='o')\n",
    "    ax.set_xlabel('X')\n",
    "    ax.set_ylabel('Y')\n",
    "    ax.set_zlabel('Z')\n",
    "    ax.elev = 31\n",
    "    ax.azim = -129\n",
    "\n",
    "    # draw vertical lines connecting each point to Z=0\n",
    "    min_z = np.min(Points_3D[:, 2])\n",
    "    for i in range(0, Points_3D.shape[0]):\n",
    "        ax.plot(np.array([Points_3D[i, 0], Points_3D[i, 0]]),\n",
    "                np.array([Points_3D[i, 1], Points_3D[i, 1]]),\n",
    "                np.array([Points_3D[i, 2], min_z]))\n",
    "\n",
    "    # if camera_center1 exists, plot it\n",
    "    if 'camera_center1' in locals():\n",
    "        ax.scatter(camera_center1[0],\n",
    "                   camera_center1[1],\n",
    "                   camera_center1[2],\n",
    "                   s=100,\n",
    "                   c='r',\n",
    "                   marker='x')\n",
    "        ax.plot(np.array([camera_center1[0], camera_center1[0]]),\n",
    "                np.array([camera_center1[1], camera_center1[1]]),\n",
    "                np.array([camera_center1[2], min_z]),\n",
    "                c='r')\n",
    "\n",
    "    plt.show()"
   ]
  },
  {
   "cell_type": "code",
   "execution_count": 131,
   "id": "30e95c75",
   "metadata": {},
   "outputs": [
    {
     "data": {
      "image/png": "[encoded data removed]",
      "text/plain": [
       "<Figure size 640x480 with 1 Axes>"
      ]
     },
     "metadata": {},
     "output_type": "display_data"
    }
   ],
   "source": [
    "plot3dview(points_3d, cen)"
   ]
  },
  {
   "attachments": {},
   "cell_type": "markdown",
   "id": "5be6a0ae",
   "metadata": {},
   "source": [
    "## Pseudo Inverse"
   ]
  },
  {
   "cell_type": "code",
   "execution_count": 190,
   "id": "df3cc687",
   "metadata": {},
   "outputs": [
    {
     "data": {
      "text/plain": [
       "array([[1.4784385 , 0.86930314, 1.        ]])"
      ]
     },
     "execution_count": 190,
     "metadata": {},
     "output_type": "execute_result"
    }
   ],
   "source": [
    "point = np.array([[1932, 1314]])\n",
    "point_norm = np.dot(N2, convert_to_homogeneous(point).T).T\n",
    "point_norm"
   ]
  },
  {
   "cell_type": "code",
   "execution_count": 199,
   "id": "e1f480f7",
   "metadata": {},
   "outputs": [],
   "source": [
    "point_ray = np.dot(np.linalg.pinv(P), point_norm.T).T"
   ]
  },
  {
   "cell_type": "code",
   "execution_count": 200,
   "id": "741b8c27",
   "metadata": {},
   "outputs": [
    {
     "data": {
      "text/plain": [
       "array([0.10785984, 2.25830222, 1.9603427 ])"
      ]
     },
     "execution_count": 200,
     "metadata": {},
     "output_type": "execute_result"
    }
   ],
   "source": [
    "cen"
   ]
  },
  {
   "cell_type": "code",
   "execution_count": 201,
   "id": "03dd1b72",
   "metadata": {},
   "outputs": [
    {
     "data": {
      "text/plain": [
       "array([[ 1.30645131,  0.49482473, -1.15203195,  1.        ]])"
      ]
     },
     "execution_count": 201,
     "metadata": {},
     "output_type": "execute_result"
    }
   ],
   "source": [
    "point_ray = point_ray / point_ray[:,3]\n",
    "point_ray"
   ]
  },
  {
   "cell_type": "code",
   "execution_count": 202,
   "id": "d06f6ce6",
   "metadata": {},
   "outputs": [
    {
     "data": {
      "text/plain": [
       "array([[ 1.19859147, -1.76347749, -3.11237465]])"
      ]
     },
     "execution_count": 202,
     "metadata": {},
     "output_type": "execute_result"
    }
   ],
   "source": [
    "v = point_ray[:,0:3] - cen\n",
    "v"
   ]
  },
  {
   "cell_type": "code",
   "execution_count": 203,
   "id": "081a6911",
   "metadata": {},
   "outputs": [
    {
     "name": "stdout",
     "output_type": "stream",
     "text": [
      "0.8620219848540452\n"
     ]
    }
   ],
   "source": [
    "t = (-0.72259267-cen[2]) / v[0,2]\n",
    "print(t)"
   ]
  },
  {
   "cell_type": "code",
   "execution_count": 204,
   "id": "74d2332b",
   "metadata": {},
   "outputs": [
    {
     "data": {
      "text/plain": [
       "array([[ 1.14107204,  0.73814585, -0.72259267]])"
      ]
     },
     "execution_count": 204,
     "metadata": {},
     "output_type": "execute_result"
    }
   ],
   "source": [
    "point_ray = cen + t * v[:, :3]\n",
    "point_ray"
   ]
  },
  {
   "cell_type": "code",
   "execution_count": 209,
   "id": "bc1ac0ba",
   "metadata": {},
   "outputs": [
    {
     "data": {
      "text/plain": [
       "array([[3.71756796e+02, 8.05876207e+02, 8.54874642e-08]])"
      ]
     },
     "execution_count": 209,
     "metadata": {},
     "output_type": "execute_result"
    }
   ],
   "source": [
    "convert_to_cartesian(np.dot(np.linalg.inv(N3), convert_to_homogeneous(point_ray).T).T)"
   ]
  },
  {
   "cell_type": "code",
   "execution_count": 206,
   "id": "f4faadea",
   "metadata": {},
   "outputs": [
    {
     "data": {
      "text/plain": [
       "[372, 808, 0]"
      ]
     },
     "execution_count": 206,
     "metadata": {},
     "output_type": "execute_result"
    }
   ],
   "source": [
    "[372, 808,   0]"
   ]
  },
  {
   "cell_type": "code",
   "execution_count": 215,
   "id": "82e2da38",
   "metadata": {},
   "outputs": [
    {
     "data": {
      "text/plain": [
       "-0.7225926712354523"
      ]
     },
     "execution_count": 215,
     "metadata": {},
     "output_type": "execute_result"
    }
   ],
   "source": [
    "(np.dot(N3, np.array([0, 0, 0, 1])))[2]"
   ]
  },
  {
   "cell_type": "code",
   "execution_count": 218,
   "id": "b236cef1",
   "metadata": {},
   "outputs": [],
   "source": [
    "def get_world_point(P, image_point, height):\n",
    "    cen = compute_camera_center(P)\n",
    "    point_norm = np.dot(N2, convert_to_homogeneous(image_point).T).T\n",
    "    point_ray = np.dot(np.linalg.pinv(P), point_norm.T).T\n",
    "    point_ray = point_ray / point_ray[:,3]\n",
    "    v = point_ray[:,0:3] - cen\n",
    "    h = (np.dot(N3, np.array([0, 0, height, 1])))[2]\n",
    "    t = (-0.72259267-cen[2]) / v[0,2]\n",
    "    point_ray = cen + t * v[:, :3]\n",
    "    world_point = convert_to_cartesian(np.dot(np.linalg.inv(N3), convert_to_homogeneous(point_ray).T).T)\n",
    "    return world_point.astype(int) "
   ]
  },
  {
   "cell_type": "code",
   "execution_count": 221,
   "id": "fdd6a81e",
   "metadata": {},
   "outputs": [
    {
     "data": {
      "text/plain": [
       "array([[198, 804,   0]])"
      ]
     },
     "execution_count": 221,
     "metadata": {},
     "output_type": "execute_result"
    }
   ],
   "source": [
    "get_world_point(P, np.array([[546, 1336]]), 0)"
   ]
  },
  {
   "cell_type": "code",
   "execution_count": null,
   "id": "7060eb0e",
   "metadata": {},
   "outputs": [],
   "source": []
  }
 ],
 "metadata": {
  "kernelspec": {
   "display_name": "51",
   "language": "python",
   "name": "python3"
  },
  "language_info": {
   "codemirror_mode": {
    "name": "ipython",
    "version": 3
   },
   "file_extension": ".py",
   "mimetype": "text/x-python",
   "name": "python",
   "nbconvert_exporter": "python",
   "pygments_lexer": "ipython3",
   "version": "3.8.15"
  },
  "vscode": {
   "interpreter": {
    "hash": "fd0382a17d977ae70a6d9f6ae17e2e298f638338f50632a28ce50f70a766e34f"
   }
  }
 },
 "nbformat": 4,
 "nbformat_minor": 5
}
