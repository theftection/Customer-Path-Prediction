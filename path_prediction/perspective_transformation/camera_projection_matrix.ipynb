{
 "cells": [
  {
   "cell_type": "markdown",
   "id": "d8dca34f",
   "metadata": {},
   "source": [
    "# Create 3d clone of the scene"
   ]
  },
  {
   "cell_type": "code",
   "execution_count": 74,
   "id": "51b8d828",
   "metadata": {},
   "outputs": [],
   "source": [
    "import cv2\n",
    "import numpy as np\n",
    "import matplotlib.pyplot as plt"
   ]
  },
  {
   "cell_type": "code",
   "execution_count": 75,
   "id": "cad39941",
   "metadata": {},
   "outputs": [],
   "source": [
    "def convert_to_homogeneous(points):\n",
    "    n = points.shape[0]\n",
    "    return np.concatenate((points, np.ones((n,1))), axis=1)"
   ]
  },
  {
   "cell_type": "code",
   "execution_count": 76,
   "id": "01c274a6",
   "metadata": {},
   "outputs": [],
   "source": [
    "def convert_to_cartesian(points):\n",
    "    return points[:,:-1]"
   ]
  },
  {
   "cell_type": "code",
   "execution_count": 77,
   "id": "fead16ab",
   "metadata": {},
   "outputs": [],
   "source": [
    "def normalize_and_homogenize_2d(points):\n",
    "    centroid = np.mean(points, axis=0)\n",
    "    centred_points = points - centroid\n",
    "    scale = np.sqrt(2) / np.mean(np.linalg.norm(centred_points, axis=1))\n",
    "    T = np.array([[scale, 0, -centroid[0] * scale],\n",
    "                  [0, scale, -centroid[1] * scale],\n",
    "                  [0, 0, 1]])\n",
    "    points = np.dot(T, convert_to_homogeneous(points).T).T\n",
    "    return points, T"
   ]
  },
  {
   "cell_type": "code",
   "execution_count": 78,
   "id": "f76c9756",
   "metadata": {},
   "outputs": [],
   "source": [
    "def normalize_and_homogenize_3d(points):\n",
    "    centroid = np.mean(points, axis=0)\n",
    "    centred_points = points - centroid\n",
    "    scale = np.sqrt(3) / np.mean(np.linalg.norm(centred_points, axis=1))\n",
    "    T = np.array([[scale, 0, 0, -centroid[0] * scale],\n",
    "                  [0, scale, 0, -centroid[1] * scale],\n",
    "                  [0, 0, scale, -centroid[2] * scale],\n",
    "                  [0, 0, 0, 1]])\n",
    "    points = np.dot(T, convert_to_homogeneous(points).T).T\n",
    "    return points, T"
   ]
  },
  {
   "cell_type": "code",
   "execution_count": 103,
   "id": "b415fbde",
   "metadata": {},
   "outputs": [
    {
     "name": "stdout",
     "output_type": "stream",
     "text": [
      "[[ 0.9784034   0.81901437 -0.73564165]\n",
      " [ 0.35310799  0.81901437 -0.73564165]\n",
      " [ 0.35310799 -3.17797193 -0.73564165]\n",
      " [ 0.9784034   0.81901437  0.73564165]\n",
      " [ 0.35310799  0.81901437  0.73564165]\n",
      " [ 0.35310799 -3.17797193  0.73564165]\n",
      " [-0.55418338  0.74545021 -0.73564165]\n",
      " [-1.130436    0.79449298 -0.73564165]\n",
      " [-0.55418338  0.74545021  0.73564165]\n",
      " [-1.130436    0.79449298  0.73564165]]\n",
      "1.7320508075688763\n",
      "[ 5.32907052e-16 -1.24344979e-15  0.00000000e+00]\n"
     ]
    }
   ],
   "source": [
    "points_3d = np.array([[463, 925,   0],\n",
    "                      [412, 925,   0],\n",
    "                      [412, 599,   0],\n",
    "                      [463, 925, 120],\n",
    "                      [412, 925, 120],\n",
    "                      [412, 599, 120],\n",
    "                      [338, 919,   0],\n",
    "                      [291, 923,   0],\n",
    "                      [338, 919, 120],\n",
    "                      [291, 923, 120]])\n",
    "points_3d, T = normalize_and_homogenize_3d(points_3d)\n",
    "points_3d = convert_to_cartesian(points_3d)\n",
    "print(points_3d)\n",
    "print(np.mean(np.linalg.norm(points_3d, axis=1)))\n",
    "print(np.mean(points_3d, axis=0))"
   ]
  },
  {
   "cell_type": "code",
   "execution_count": 104,
   "id": "ab2b56c3",
   "metadata": {},
   "outputs": [
    {
     "name": "stdout",
     "output_type": "stream",
     "text": [
      "[[ 1.4784385   0.86930314]\n",
      " [ 0.64162851  0.9093632 ]\n",
      " [ 0.32114809 -0.88888806]\n",
      " [ 1.78779113 -0.33694955]\n",
      " [ 0.7818387  -0.35475402]\n",
      " [ 0.36565926 -1.48311217]\n",
      " [-0.7248644   0.96055104]\n",
      " [-1.60618556  0.91826543]\n",
      " [-1.12991604 -0.32582176]\n",
      " [-1.91553819 -0.26795724]]\n",
      "1.4142135623730951\n",
      "[-4.4408921e-17  4.4408921e-17]\n"
     ]
    }
   ],
   "source": [
    "points_2d = np.array([[1932, 1314],\n",
    "                      [1556, 1332],\n",
    "                      [1412,  524],\n",
    "                      [2071,  772],\n",
    "                      [1619,  764],\n",
    "                      [1432,  257],\n",
    "                      [ 942, 1355],\n",
    "                      [ 546, 1336],\n",
    "                      [ 760,  777],\n",
    "                      [ 407,  803]])\n",
    "points_2d, T = normalize_and_homogenize_2d(points_2d)\n",
    "print(convert_to_cartesian(points_2d))\n",
    "print(np.mean(np.linalg.norm(points_2d[:,:2], axis=1)))\n",
    "print(np.mean(points_2d[:,:2], axis=0))"
   ]
  },
  {
   "cell_type": "code",
   "execution_count": 105,
   "id": "01e988dd",
   "metadata": {},
   "outputs": [],
   "source": [
    "n = points_2d.shape[0]\n",
    "u = points_2d[:,0]\n",
    "v = points_2d[:,1]\n",
    "X = points_3d[:,0]\n",
    "Y = points_3d[:,1]\n",
    "Z = points_3d[:,2]\n",
    "A = np.zeros((2*n, 12))"
   ]
  },
  {
   "cell_type": "code",
   "execution_count": 121,
   "id": "1d183098",
   "metadata": {},
   "outputs": [],
   "source": [
    "for i in range(n):\n",
    "    A[2*i,:] = [X[i], Y[i], Z[i], 1, 0, 0, 0, 0, -u[i]*X[i], -u[i]*Y[i], -u[i]*Z[i], -u[i]]\n",
    "    A[2*i+1,:] = [0, 0, 0, 0, X[i], Y[i], Z[i], 1, -v[i]*X[i], -v[i]*Y[i], -v[i]*Z[i], -v[i]]"
   ]
  },
  {
   "attachments": {},
   "cell_type": "markdown",
   "id": "e812a365",
   "metadata": {},
   "source": [
    "## Calculation 1"
   ]
  },
  {
   "cell_type": "code",
   "execution_count": 129,
   "id": "3b50cc5f",
   "metadata": {},
   "outputs": [],
   "source": [
    "U, S, V = np.linalg.svd(A)"
   ]
  },
  {
   "cell_type": "code",
   "execution_count": 130,
   "id": "76f55e64",
   "metadata": {},
   "outputs": [],
   "source": [
    "P = V[:, -1].reshape((3, 4))"
   ]
  },
  {
   "cell_type": "code",
   "execution_count": 131,
   "id": "ae7cdeea",
   "metadata": {},
   "outputs": [
    {
     "data": {
      "text/plain": [
       "array([[-0.01497537, -0.66953079,  0.41951313, -0.18695756],\n",
       "       [-0.17632161, -0.12999335,  0.00965445,  0.02126225],\n",
       "       [-0.0015472 ,  0.01127641, -0.09949918, -0.53103423]])"
      ]
     },
     "execution_count": 131,
     "metadata": {},
     "output_type": "execute_result"
    }
   ],
   "source": [
    "P"
   ]
  },
  {
   "cell_type": "code",
   "execution_count": 143,
   "id": "4d64cf1a",
   "metadata": {},
   "outputs": [],
   "source": [
    "from scipy.optimize import least_squares\n",
    "\n",
    "def residuals(P, points_2d, points_3d):\n",
    "    X = P.reshape(3, 4)\n",
    "    projected = (X @ points_3d.T).T\n",
    "    projected = projected / projected[:, -1:]\n",
    "    return np.ravel(points_2d - projected)"
   ]
  },
  {
   "cell_type": "code",
   "execution_count": 144,
   "id": "6d119775",
   "metadata": {},
   "outputs": [
    {
     "ename": "ValueError",
     "evalue": "operands could not be broadcast together with shapes (10,4) (10,3) ",
     "output_type": "error",
     "traceback": [
      "\u001b[0;31m---------------------------------------------------------------------------\u001b[0m",
      "\u001b[0;31mValueError\u001b[0m                                Traceback (most recent call last)",
      "Cell \u001b[0;32mIn[144], line 1\u001b[0m\n\u001b[0;32m----> 1\u001b[0m res \u001b[39m=\u001b[39m least_squares(residuals, P\u001b[39m.\u001b[39;49mflatten(), args\u001b[39m=\u001b[39;49m(convert_to_homogeneous(points_2d), convert_to_homogeneous(points_3d)))\n\u001b[1;32m      2\u001b[0m X_opt \u001b[39m=\u001b[39m res\u001b[39m.\u001b[39mx\u001b[39m.\u001b[39mreshape(\u001b[39m-\u001b[39m\u001b[39m1\u001b[39m, \u001b[39m3\u001b[39m)\n",
      "File \u001b[0;32m~/Development/miniconda3/envs/51/lib/python3.8/site-packages/scipy/optimize/_lsq/least_squares.py:820\u001b[0m, in \u001b[0;36mleast_squares\u001b[0;34m(fun, x0, jac, bounds, method, ftol, xtol, gtol, x_scale, loss, f_scale, diff_step, tr_solver, tr_options, jac_sparsity, max_nfev, verbose, args, kwargs)\u001b[0m\n\u001b[1;32m    817\u001b[0m \u001b[39mif\u001b[39;00m method \u001b[39m==\u001b[39m \u001b[39m'\u001b[39m\u001b[39mtrf\u001b[39m\u001b[39m'\u001b[39m:\n\u001b[1;32m    818\u001b[0m     x0 \u001b[39m=\u001b[39m make_strictly_feasible(x0, lb, ub)\n\u001b[0;32m--> 820\u001b[0m f0 \u001b[39m=\u001b[39m fun_wrapped(x0)\n\u001b[1;32m    822\u001b[0m \u001b[39mif\u001b[39;00m f0\u001b[39m.\u001b[39mndim \u001b[39m!=\u001b[39m \u001b[39m1\u001b[39m:\n\u001b[1;32m    823\u001b[0m     \u001b[39mraise\u001b[39;00m \u001b[39mValueError\u001b[39;00m(\u001b[39m\"\u001b[39m\u001b[39m`fun` must return at most 1-d array_like. \u001b[39m\u001b[39m\"\u001b[39m\n\u001b[1;32m    824\u001b[0m                      \u001b[39m\"\u001b[39m\u001b[39mf0.shape: \u001b[39m\u001b[39m{0}\u001b[39;00m\u001b[39m\"\u001b[39m\u001b[39m.\u001b[39mformat(f0\u001b[39m.\u001b[39mshape))\n",
      "File \u001b[0;32m~/Development/miniconda3/envs/51/lib/python3.8/site-packages/scipy/optimize/_lsq/least_squares.py:815\u001b[0m, in \u001b[0;36mleast_squares.<locals>.fun_wrapped\u001b[0;34m(x)\u001b[0m\n\u001b[1;32m    814\u001b[0m \u001b[39mdef\u001b[39;00m \u001b[39mfun_wrapped\u001b[39m(x):\n\u001b[0;32m--> 815\u001b[0m     \u001b[39mreturn\u001b[39;00m np\u001b[39m.\u001b[39matleast_1d(fun(x, \u001b[39m*\u001b[39;49margs, \u001b[39m*\u001b[39;49m\u001b[39m*\u001b[39;49mkwargs))\n",
      "Cell \u001b[0;32mIn[143], line 7\u001b[0m, in \u001b[0;36mresiduals\u001b[0;34m(P, points_2d, points_3d)\u001b[0m\n\u001b[1;32m      5\u001b[0m projected \u001b[39m=\u001b[39m (X \u001b[39m@\u001b[39m points_3d\u001b[39m.\u001b[39mT)\u001b[39m.\u001b[39mT\n\u001b[1;32m      6\u001b[0m projected \u001b[39m=\u001b[39m projected \u001b[39m/\u001b[39m projected[:, \u001b[39m-\u001b[39m\u001b[39m1\u001b[39m:]\n\u001b[0;32m----> 7\u001b[0m \u001b[39mreturn\u001b[39;00m np\u001b[39m.\u001b[39mravel(points_2d \u001b[39m-\u001b[39;49m projected)\n",
      "\u001b[0;31mValueError\u001b[0m: operands could not be broadcast together with shapes (10,4) (10,3) "
     ]
    }
   ],
   "source": [
    "\n",
    "res = least_squares(residuals, P.flatten(), args=(convert_to_homogeneous(points_2d), convert_to_homogeneous(points_3d)))\n",
    "X_opt = res.x.reshape(-1, 3)"
   ]
  },
  {
   "cell_type": "code",
   "execution_count": 137,
   "id": "3f5fbbc9",
   "metadata": {},
   "outputs": [
    {
     "ename": "ValueError",
     "evalue": "could not broadcast input array from shape (10,4) into shape (10,8)",
     "output_type": "error",
     "traceback": [
      "\u001b[0;31m---------------------------------------------------------------------------\u001b[0m",
      "\u001b[0;31mValueError\u001b[0m                                Traceback (most recent call last)",
      "Cell \u001b[0;32mIn[137], line 1\u001b[0m\n\u001b[0;32m----> 1\u001b[0m p \u001b[39m=\u001b[39m optimize_projection_matrix(P, points_3d, points_2d)\n",
      "Cell \u001b[0;32mIn[136], line 15\u001b[0m, in \u001b[0;36moptimize_projection_matrix\u001b[0;34m(p, points_3d, points_2d, max_iterations, tolerance)\u001b[0m\n\u001b[1;32m     13\u001b[0m \u001b[39mfor\u001b[39;00m i \u001b[39min\u001b[39;00m \u001b[39mrange\u001b[39m(max_iterations):\n\u001b[1;32m     14\u001b[0m     J \u001b[39m=\u001b[39m np\u001b[39m.\u001b[39mzeros((\u001b[39mlen\u001b[39m(points_3d), \u001b[39m12\u001b[39m))\n\u001b[0;32m---> 15\u001b[0m     J[:, :\u001b[39m8\u001b[39;49m] \u001b[39m=\u001b[39m points_3d\n\u001b[1;32m     16\u001b[0m     J[:, \u001b[39m8\u001b[39m:\u001b[39m12\u001b[39m] \u001b[39m=\u001b[39m \u001b[39m-\u001b[39mpoints_3d \u001b[39m*\u001b[39m points_2d[:, np\u001b[39m.\u001b[39mnewaxis, \u001b[39m0\u001b[39m][:, :, np\u001b[39m.\u001b[39mnewaxis]\n\u001b[1;32m     17\u001b[0m     J[:, \u001b[39m10\u001b[39m] \u001b[39m*\u001b[39m\u001b[39m=\u001b[39m \u001b[39m-\u001b[39m\u001b[39m1\u001b[39m\n",
      "\u001b[0;31mValueError\u001b[0m: could not broadcast input array from shape (10,4) into shape (10,8)"
     ]
    }
   ],
   "source": [
    "p = optimize_projection_matrix(P, points_3d, points_2d)"
   ]
  },
  {
   "cell_type": "code",
   "execution_count": 125,
   "id": "3da2f91d",
   "metadata": {},
   "outputs": [
    {
     "name": "stdout",
     "output_type": "stream",
     "text": [
      "[[ 2.35178146  0.58833636  1.        ]\n",
      " [ 2.33599879  0.3441327   1.        ]\n",
      " [-3.29183388 -0.73856579  1.        ]\n",
      " [ 0.73989512  0.42013773  1.        ]\n",
      " [ 0.72537351  0.23568919  1.        ]\n",
      " [-3.50307897 -0.59196341  1.        ]\n",
      " [ 2.19889998 -0.03337451  1.        ]\n",
      " [ 2.26014072 -0.24646393  1.        ]\n",
      " [ 0.62045338 -0.04903705  1.        ]\n",
      " [ 0.66274729 -0.20960634  1.        ]]\n",
      "[[ 1.4784385   0.86930314  1.        ]\n",
      " [ 0.64162851  0.9093632   1.        ]\n",
      " [ 0.32114809 -0.88888806  1.        ]\n",
      " [ 1.78779113 -0.33694955  1.        ]\n",
      " [ 0.7818387  -0.35475402  1.        ]\n",
      " [ 0.36565926 -1.48311217  1.        ]\n",
      " [-0.7248644   0.96055104  1.        ]\n",
      " [-1.60618556  0.91826543  1.        ]\n",
      " [-1.12991604 -0.32582176  1.        ]\n",
      " [-1.91553819 -0.26795724  1.        ]]\n"
     ]
    }
   ],
   "source": [
    "points_3d_h = convert_to_homogeneous(points_3d)\n",
    "points_2d_h = np.dot(P, points_3d_h.T)\n",
    "points_2d_h = points_2d_h / points_2d_h[2,:]\n",
    "print(points_2d_h.T)\n",
    "print(points_2d)"
   ]
  },
  {
   "attachments": {},
   "cell_type": "markdown",
   "id": "e4ae7372",
   "metadata": {},
   "source": [
    "## Calculation 2"
   ]
  },
  {
   "cell_type": "code",
   "execution_count": 51,
   "id": "4dd8f5e7",
   "metadata": {},
   "outputs": [
    {
     "ename": "error",
     "evalue": "OpenCV(4.6.0) /Users/xperience/actions-runner/_work/opencv-python/opencv-python/opencv/modules/calib3d/src/calibration.cpp:3350: error: (-210:Unsupported format or combination of formats) objectPoints should contain vector of vectors of points of type Point3f in function 'collectCalibrationData'\n",
     "output_type": "error",
     "traceback": [
      "\u001b[0;31m---------------------------------------------------------------------------\u001b[0m",
      "\u001b[0;31merror\u001b[0m                                     Traceback (most recent call last)",
      "Cell \u001b[0;32mIn[51], line 1\u001b[0m\n\u001b[0;32m----> 1\u001b[0m camera_matrix, dist_coeffs, rvecs, tvecs \u001b[39m=\u001b[39m cv2\u001b[39m.\u001b[39;49mcalibrateCamera(points_3d, points_2d, [\u001b[39m2592\u001b[39;49m, \u001b[39m1944\u001b[39;49m], \u001b[39mNone\u001b[39;49;00m, \u001b[39mNone\u001b[39;49;00m)\n",
      "\u001b[0;31merror\u001b[0m: OpenCV(4.6.0) /Users/xperience/actions-runner/_work/opencv-python/opencv-python/opencv/modules/calib3d/src/calibration.cpp:3350: error: (-210:Unsupported format or combination of formats) objectPoints should contain vector of vectors of points of type Point3f in function 'collectCalibrationData'\n"
     ]
    }
   ],
   "source": [
    "#camera_matrix, dist_coeffs, rvecs, tvecs = cv2.calibrateCamera(points_3d, points_2d, [2592, 1944], None, None)"
   ]
  },
  {
   "attachments": {},
   "cell_type": "markdown",
   "id": "30305321",
   "metadata": {},
   "source": [
    "## Calculation 3"
   ]
  },
  {
   "cell_type": "code",
   "execution_count": 98,
   "id": "53c73cec",
   "metadata": {},
   "outputs": [],
   "source": [
    "res = np.linalg.lstsq(A, b, rcond=None)"
   ]
  },
  {
   "cell_type": "code",
   "execution_count": 99,
   "id": "3032d5d5",
   "metadata": {},
   "outputs": [],
   "source": [
    "m = res[0]"
   ]
  },
  {
   "cell_type": "code",
   "execution_count": 100,
   "id": "3392a05b",
   "metadata": {},
   "outputs": [],
   "source": [
    "M = m.reshape((3,4))"
   ]
  },
  {
   "cell_type": "code",
   "execution_count": 101,
   "id": "fe919ff5",
   "metadata": {},
   "outputs": [
    {
     "name": "stdout",
     "output_type": "stream",
     "text": [
      "[[0. 0. 0. 0.]\n",
      " [0. 0. 0. 0.]\n",
      " [0. 0. 0. 0.]]\n"
     ]
    }
   ],
   "source": [
    "print(M)"
   ]
  },
  {
   "cell_type": "code",
   "execution_count": 102,
   "id": "3d597b72",
   "metadata": {},
   "outputs": [
    {
     "name": "stdout",
     "output_type": "stream",
     "text": [
      "[[nan nan nan]\n",
      " [nan nan nan]\n",
      " [nan nan nan]\n",
      " [nan nan nan]\n",
      " [nan nan nan]\n",
      " [nan nan nan]\n",
      " [nan nan nan]\n",
      " [nan nan nan]\n",
      " [nan nan nan]\n",
      " [nan nan nan]]\n",
      "[[ 1.4784385   0.86930314  1.        ]\n",
      " [ 0.64162851  0.9093632   1.        ]\n",
      " [ 0.32114809 -0.88888806  1.        ]\n",
      " [ 1.78779113 -0.33694955  1.        ]\n",
      " [ 0.7818387  -0.35475402  1.        ]\n",
      " [ 0.36565926 -1.48311217  1.        ]\n",
      " [-0.7248644   0.96055104  1.        ]\n",
      " [-1.60618556  0.91826543  1.        ]\n",
      " [-1.12991604 -0.32582176  1.        ]\n",
      " [-1.91553819 -0.26795724  1.        ]]\n"
     ]
    },
    {
     "name": "stderr",
     "output_type": "stream",
     "text": [
      "/var/folders/8_/51vdws854m1218_v37ctyqj80000gn/T/ipykernel_28574/1025730394.py:3: RuntimeWarning: invalid value encountered in divide\n",
      "  points_2d_h = points_2d_h / points_2d_h[2,:]\n"
     ]
    }
   ],
   "source": [
    "points_3d_h = np.concatenate((points_3d, np.ones((n,1))), axis=1)\n",
    "points_2d_h = np.dot(M, points_3d_h.T)\n",
    "points_2d_h = points_2d_h / points_2d_h[2,:]\n",
    "print(points_2d_h.T)\n",
    "print(points_2d)"
   ]
  },
  {
   "cell_type": "code",
   "execution_count": null,
   "id": "ed54ce3f",
   "metadata": {},
   "outputs": [],
   "source": []
  },
  {
   "cell_type": "code",
   "execution_count": 1,
   "id": "c4e7baba",
   "metadata": {},
   "outputs": [],
   "source": [
    "#normalisierung"
   ]
  },
  {
   "cell_type": "code",
   "execution_count": null,
   "id": "b50d13a5",
   "metadata": {},
   "outputs": [],
   "source": [
    "#pseudo inverse"
   ]
  }
 ],
 "metadata": {
  "kernelspec": {
   "display_name": "51",
   "language": "python",
   "name": "python3"
  },
  "language_info": {
   "codemirror_mode": {
    "name": "ipython",
    "version": 3
   },
   "file_extension": ".py",
   "mimetype": "text/x-python",
   "name": "python",
   "nbconvert_exporter": "python",
   "pygments_lexer": "ipython3",
   "version": "3.8.15"
  },
  "vscode": {
   "interpreter": {
    "hash": "fd0382a17d977ae70a6d9f6ae17e2e298f638338f50632a28ce50f70a766e34f"
   }
  }
 },
 "nbformat": 4,
 "nbformat_minor": 5
}
