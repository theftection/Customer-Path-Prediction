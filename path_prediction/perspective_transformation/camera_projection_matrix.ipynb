{
 "cells": [
  {
   "cell_type": "markdown",
   "id": "d8dca34f",
   "metadata": {},
   "source": [
    "# Create 3d clone of the scene"
   ]
  },
  {
   "cell_type": "code",
   "execution_count": 1,
   "id": "51b8d828",
   "metadata": {},
   "outputs": [],
   "source": [
    "import cv2\n",
    "import numpy as np\n",
    "import matplotlib.pyplot as plt"
   ]
  },
  {
   "cell_type": "code",
   "execution_count": 32,
   "id": "b415fbde",
   "metadata": {},
   "outputs": [],
   "source": [
    "points_3d = np.array([[463, 925,   0],\n",
    "                      [412, 925,   0],\n",
    "                      [412, 599,   0],\n",
    "                      [463, 925, 120],\n",
    "                      [412, 925, 120],\n",
    "                      [412, 599, 120],\n",
    "                      [338, 919,   0],\n",
    "                      [291, 923,   0],\n",
    "                      [338, 919, 120],\n",
    "                      [291, 923, 120]])"
   ]
  },
  {
   "cell_type": "code",
   "execution_count": 33,
   "id": "ab2b56c3",
   "metadata": {},
   "outputs": [],
   "source": [
    "points_2d = np.array([[1932, 1314],\n",
    "                      [1556, 1332],\n",
    "                      [1412,  524],\n",
    "                      [2071,  772],\n",
    "                      [1619,  764],\n",
    "                      [1432,  257],\n",
    "                      [ 942, 1355],\n",
    "                      [ 546, 1336],\n",
    "                      [ 760,  777],\n",
    "                      [ 407,  803]])"
   ]
  },
  {
   "cell_type": "code",
   "execution_count": 34,
   "id": "01e988dd",
   "metadata": {},
   "outputs": [],
   "source": [
    "n = points_2d.shape[0]\n",
    "u = points_2d[:,0]\n",
    "v = points_2d[:,1]\n",
    "X = points_3d[:,0]\n",
    "Y = points_3d[:,1]\n",
    "Z = points_3d[:,2]\n",
    "A = np.zeros((2*n, 12))"
   ]
  },
  {
   "cell_type": "code",
   "execution_count": 35,
   "id": "1d183098",
   "metadata": {},
   "outputs": [],
   "source": [
    "for i in range(n):\n",
    "    A[2*i,:] = [X[1], Y[i], Z[i], 1, 0, 0, 0, 0, -u[i]*X[i], -u[i]*Y[i], -u[i]*Z[i], -u[i]]\n",
    "    A[2*i+1,:] = [0, 0, 0, 0, X[i], Y[i], Z[i], 1, -v[i]*X[i], -v[i]*Y[i], -v[i]*Z[i], -v[i]]"
   ]
  },
  {
   "cell_type": "code",
   "execution_count": 36,
   "id": "624895e6",
   "metadata": {},
   "outputs": [],
   "source": [
    "b = points_2d.reshape((2*n,1))"
   ]
  },
  {
   "attachments": {},
   "cell_type": "markdown",
   "id": "e812a365",
   "metadata": {},
   "source": [
    "## Calculation 1"
   ]
  },
  {
   "cell_type": "code",
   "execution_count": 42,
   "id": "3b50cc5f",
   "metadata": {},
   "outputs": [],
   "source": [
    "U, S, V = np.linalg.svd(A)"
   ]
  },
  {
   "cell_type": "code",
   "execution_count": 43,
   "id": "76f55e64",
   "metadata": {},
   "outputs": [],
   "source": [
    "M = V[:, -1].reshape((3, 4))"
   ]
  },
  {
   "cell_type": "code",
   "execution_count": 44,
   "id": "ae7cdeea",
   "metadata": {},
   "outputs": [
    {
     "data": {
      "text/plain": [
       "array([[ 1.02201225e-03, -7.51760115e-04, -3.40209225e-04,\n",
       "        -1.19861184e-02],\n",
       "       [ 2.23541987e-01, -8.99477212e-01,  1.07035353e-01,\n",
       "        -2.99838861e-01],\n",
       "       [ 3.48518092e-02, -1.95565765e-01,  1.95097252e-03,\n",
       "        -4.99013195e-14]])"
      ]
     },
     "execution_count": 44,
     "metadata": {},
     "output_type": "execute_result"
    }
   ],
   "source": [
    "M"
   ]
  },
  {
   "cell_type": "code",
   "execution_count": 52,
   "id": "3da2f91d",
   "metadata": {},
   "outputs": [
    {
     "name": "stdout",
     "output_type": "stream",
     "text": [
      "[[1.42127814e-03 4.42345056e+00 1.00000000e+00]\n",
      " [1.71908388e-03 4.44469607e+00 1.00000000e+00]\n",
      " [4.01044897e-04 4.34876311e+00 1.00000000e+00]\n",
      " [1.67143553e-03 4.35167767e+00 1.00000000e+00]\n",
      " [1.96698687e-03 4.37372018e+00 1.00000000e+00]\n",
      " [8.00056760e-04 4.23344347e+00 1.00000000e+00]\n",
      " [2.12815782e-03 4.47385802e+00 1.00000000e+00]\n",
      " [2.39752508e-03 4.49308912e+00 1.00000000e+00]\n",
      " [2.37455410e-03 4.40351771e+00 1.00000000e+00]\n",
      " [2.64078678e-03 4.42377593e+00 1.00000000e+00]]\n",
      "[[1932 1314]\n",
      " [1556 1332]\n",
      " [1412  524]\n",
      " [2071  772]\n",
      " [1619  764]\n",
      " [1432  257]\n",
      " [ 942 1355]\n",
      " [ 546 1336]\n",
      " [ 760  777]\n",
      " [ 407  803]]\n"
     ]
    }
   ],
   "source": [
    "points_3d_h = np.concatenate((points_3d, np.ones((n,1))), axis=1)\n",
    "points_2d_h = np.dot(M, points_3d_h.T)\n",
    "points_2d_h = points_2d_h / points_2d_h[2,:]\n",
    "print(points_2d_h.T)\n",
    "print(points_2d)"
   ]
  },
  {
   "cell_type": "code",
   "execution_count": 50,
   "id": "9010456b",
   "metadata": {},
   "outputs": [
    {
     "name": "stdout",
     "output_type": "stream",
     "text": [
      "[[1.42127814e-03 4.42345056e+00 1.00000000e+00]\n",
      " [1.71908388e-03 4.44469607e+00 1.00000000e+00]\n",
      " [4.01044897e-04 4.34876311e+00 1.00000000e+00]\n",
      " [1.67143553e-03 4.35167767e+00 1.00000000e+00]\n",
      " [1.96698687e-03 4.37372018e+00 1.00000000e+00]\n",
      " [8.00056760e-04 4.23344347e+00 1.00000000e+00]\n",
      " [2.12815782e-03 4.47385802e+00 1.00000000e+00]\n",
      " [2.39752508e-03 4.49308912e+00 1.00000000e+00]\n",
      " [2.37455410e-03 4.40351771e+00 1.00000000e+00]\n",
      " [2.64078678e-03 4.42377593e+00 1.00000000e+00]] [[1932 1314]\n",
      " [1556 1332]\n",
      " [1412  524]\n",
      " [2071  772]\n",
      " [1619  764]\n",
      " [1432  257]\n",
      " [ 942 1355]\n",
      " [ 546 1336]\n",
      " [ 760  777]\n",
      " [ 407  803]]\n"
     ]
    }
   ],
   "source": []
  },
  {
   "attachments": {},
   "cell_type": "markdown",
   "id": "e4ae7372",
   "metadata": {},
   "source": [
    "## Calculation 2"
   ]
  },
  {
   "cell_type": "code",
   "execution_count": 51,
   "id": "4dd8f5e7",
   "metadata": {},
   "outputs": [
    {
     "ename": "error",
     "evalue": "OpenCV(4.6.0) /Users/xperience/actions-runner/_work/opencv-python/opencv-python/opencv/modules/calib3d/src/calibration.cpp:3350: error: (-210:Unsupported format or combination of formats) objectPoints should contain vector of vectors of points of type Point3f in function 'collectCalibrationData'\n",
     "output_type": "error",
     "traceback": [
      "\u001b[0;31m---------------------------------------------------------------------------\u001b[0m",
      "\u001b[0;31merror\u001b[0m                                     Traceback (most recent call last)",
      "Cell \u001b[0;32mIn[51], line 1\u001b[0m\n\u001b[0;32m----> 1\u001b[0m camera_matrix, dist_coeffs, rvecs, tvecs \u001b[39m=\u001b[39m cv2\u001b[39m.\u001b[39;49mcalibrateCamera(points_3d, points_2d, [\u001b[39m2592\u001b[39;49m, \u001b[39m1944\u001b[39;49m], \u001b[39mNone\u001b[39;49;00m, \u001b[39mNone\u001b[39;49;00m)\n",
      "\u001b[0;31merror\u001b[0m: OpenCV(4.6.0) /Users/xperience/actions-runner/_work/opencv-python/opencv-python/opencv/modules/calib3d/src/calibration.cpp:3350: error: (-210:Unsupported format or combination of formats) objectPoints should contain vector of vectors of points of type Point3f in function 'collectCalibrationData'\n"
     ]
    }
   ],
   "source": [
    "#camera_matrix, dist_coeffs, rvecs, tvecs = cv2.calibrateCamera(points_3d, points_2d, [2592, 1944], None, None)"
   ]
  },
  {
   "attachments": {},
   "cell_type": "markdown",
   "id": "30305321",
   "metadata": {},
   "source": [
    "## Calculation 3"
   ]
  },
  {
   "cell_type": "code",
   "execution_count": 54,
   "id": "53c73cec",
   "metadata": {},
   "outputs": [],
   "source": [
    "res = np.linalg.lstsq(A, b, rcond=None)"
   ]
  },
  {
   "cell_type": "code",
   "execution_count": 55,
   "id": "3032d5d5",
   "metadata": {},
   "outputs": [],
   "source": [
    "m = res[0]"
   ]
  },
  {
   "cell_type": "code",
   "execution_count": 56,
   "id": "3392a05b",
   "metadata": {},
   "outputs": [],
   "source": [
    "M = m.reshape((3,4))"
   ]
  },
  {
   "cell_type": "code",
   "execution_count": 57,
   "id": "fe919ff5",
   "metadata": {},
   "outputs": [
    {
     "name": "stdout",
     "output_type": "stream",
     "text": [
      "[[-2.50338987e-14  1.00204133e-14  4.20981374e-15  4.16954256e-14]\n",
      " [-4.89013646e-15  2.19053124e-15  3.17821275e-15 -3.69946293e-13]\n",
      " [-1.08733303e-17  7.46208022e-18  1.56979828e-17 -1.00000000e+00]]\n"
     ]
    }
   ],
   "source": [
    "print(M)"
   ]
  },
  {
   "cell_type": "code",
   "execution_count": 58,
   "id": "3d597b72",
   "metadata": {},
   "outputs": [
    {
     "name": "stdout",
     "output_type": "stream",
     "text": [
      "[[ 2.28011736e-12  6.07838079e-13  1.00000000e+00]\n",
      " [ 1.00338853e-12  3.58441120e-13  1.00000000e+00]\n",
      " [ 4.27004327e-12  1.07255430e-12  1.00000000e+00]\n",
      " [ 1.77493971e-12  2.26452550e-13  1.00000000e+00]\n",
      " [ 4.98210878e-13 -2.29444098e-14  1.00000000e+00]\n",
      " [ 3.76486562e-12  6.91168774e-13  1.00000000e+00]\n",
      " [-7.88997498e-13  9.71420915e-15  1.00000000e+00]\n",
      " [-2.00567239e-12 -2.28884330e-13  1.00000000e+00]\n",
      " [-1.29417515e-12 -3.71671321e-13  1.00000000e+00]\n",
      " [-2.51085004e-12 -6.10269859e-13  1.00000000e+00]]\n",
      "[[1932 1314]\n",
      " [1556 1332]\n",
      " [1412  524]\n",
      " [2071  772]\n",
      " [1619  764]\n",
      " [1432  257]\n",
      " [ 942 1355]\n",
      " [ 546 1336]\n",
      " [ 760  777]\n",
      " [ 407  803]]\n"
     ]
    }
   ],
   "source": [
    "points_3d_h = np.concatenate((points_3d, np.ones((n,1))), axis=1)\n",
    "points_2d_h = np.dot(M, points_3d_h.T)\n",
    "points_2d_h = points_2d_h / points_2d_h[2,:]\n",
    "print(points_2d_h.T)\n",
    "print(points_2d)"
   ]
  },
  {
   "cell_type": "code",
   "execution_count": null,
   "id": "ed54ce3f",
   "metadata": {},
   "outputs": [],
   "source": []
  },
  {
   "cell_type": "code",
   "execution_count": null,
   "id": "c4e7baba",
   "metadata": {},
   "outputs": [],
   "source": []
  }
 ],
 "metadata": {
  "kernelspec": {
   "display_name": "51",
   "language": "python",
   "name": "python3"
  },
  "language_info": {
   "codemirror_mode": {
    "name": "ipython",
    "version": 3
   },
   "file_extension": ".py",
   "mimetype": "text/x-python",
   "name": "python",
   "nbconvert_exporter": "python",
   "pygments_lexer": "ipython3",
   "version": "3.8.15"
  },
  "vscode": {
   "interpreter": {
    "hash": "fd0382a17d977ae70a6d9f6ae17e2e298f638338f50632a28ce50f70a766e34f"
   }
  }
 },
 "nbformat": 4,
 "nbformat_minor": 5
}
