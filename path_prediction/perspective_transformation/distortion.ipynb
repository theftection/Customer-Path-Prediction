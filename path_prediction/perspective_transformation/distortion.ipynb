{
 "cells": [
  {
   "cell_type": "markdown",
   "id": "62133d81",
   "metadata": {},
   "source": [
    "# Testing Homography / Perspektiv Transformation"
   ]
  },
  {
   "cell_type": "code",
   "execution_count": 1,
   "id": "f8b8f289",
   "metadata": {},
   "outputs": [],
   "source": [
    "import cv2\n",
    "import numpy as np"
   ]
  },
  {
   "cell_type": "code",
   "execution_count": 2,
   "id": "2c741323",
   "metadata": {},
   "outputs": [],
   "source": [
    "# Load the image and the floor plan\n",
    "image = cv2.imread(\"Ch4_image.png\")"
   ]
  },
  {
   "cell_type": "code",
   "execution_count": 3,
   "id": "25a9d39f",
   "metadata": {},
   "outputs": [],
   "source": [
    "def select_points(event, x, y, flags, param):\n",
    "    if event == cv2.EVENT_LBUTTONDOWN:\n",
    "        # Add the selected point to the list of points\n",
    "        param[0].append([x,y])\n",
    "\n",
    "def get_points(img):\n",
    "    # Create a copy of the image for display purposes\n",
    "    img_copy = img.copy()\n",
    "    \n",
    "    # List to store the selected points\n",
    "    points = []\n",
    "    \n",
    "    # Set up the callback function for mouse events\n",
    "    cv2.namedWindow(\"Image\")\n",
    "    cv2.setMouseCallback(\"Image\", select_points, [points])\n",
    "    \n",
    "    # Loop until the user presses the 'q' key\n",
    "    while True:\n",
    "        # Show the image\n",
    "        cv2.imshow(\"Image\", img_copy)\n",
    "        \n",
    "        # Draw the selected points on the image\n",
    "        for point in points:\n",
    "            cv2.circle(img_copy, tuple(point), 5, (0,0,255), -1)\n",
    "        \n",
    "        # Check for user input\n",
    "        key = cv2.waitKey(1) & 0xFF\n",
    "        if key == ord(\"q\"):\n",
    "            break\n",
    "    \n",
    "    # Destroy the window\n",
    "    cv2.destroyAllWindows()\n",
    "    \n",
    "    # Convert the list of points to a numpy array\n",
    "    points = np.array(points, dtype=np.float32)\n",
    "    \n",
    "    # Compute the start and end points of the destination line\n",
    "    start = points[0]\n",
    "    end = points[-1]\n",
    "    \n",
    "    # Compute the equation of the line between the start and end points\n",
    "    a = end[1] - start[1]\n",
    "    b = start[0] - end[0]\n",
    "    c = end[0]*start[1] - start[0]*end[1]\n",
    "    \n",
    "    # Compute the destination points for each source point\n",
    "    dst_pts = np.zeros_like(points)\n",
    "    for i, point in enumerate(points):\n",
    "        x, y = point\n",
    "        dst_pts[i,0] = (b*(b*x - a*y) - a*c)/(a**2 + b**2)\n",
    "        dst_pts[i,1] = (a*(-b*x + a*y) - b*c)/(a**2 + b**2)\n",
    "    \n",
    "    # Return the source and destination points\n",
    "    return points, dst_pts\n",
    "\n",
    "def get_lines(image, n):\n",
    "    src_pts = np.array([]).reshape(0,2)\n",
    "    dst_pts = np.array([]).reshape(0,2)\n",
    "    for i in range(n):\n",
    "        src, dst = get_points(image)\n",
    "        src_pts = np.concatenate((src_pts, src))\n",
    "        dst_pts = np.concatenate((dst_pts, dst))\n",
    "    return src_pts, dst_pts\n"
   ]
  },
  {
   "cell_type": "code",
   "execution_count": 4,
   "id": "7b9e2bd7",
   "metadata": {},
   "outputs": [],
   "source": [
    "src_pts, dst_pts = get_lines(image, 2)"
   ]
  },
  {
   "cell_type": "code",
   "execution_count": 5,
   "id": "86e58aff",
   "metadata": {},
   "outputs": [
    {
     "data": {
      "text/plain": [
       "(9, 9)"
      ]
     },
     "execution_count": 5,
     "metadata": {},
     "output_type": "execute_result"
    }
   ],
   "source": [
    "len(src_pts), len(dst_pts)"
   ]
  },
  {
   "cell_type": "code",
   "execution_count": 6,
   "id": "6ff819cd",
   "metadata": {},
   "outputs": [],
   "source": [
    "H, mask = cv2.findHomography(src_pts, dst_pts, cv2.RANSAC, 5.0)"
   ]
  },
  {
   "cell_type": "code",
   "execution_count": 7,
   "id": "d49fc1cc",
   "metadata": {},
   "outputs": [
    {
     "data": {
      "text/plain": [
       "array([[ 1.00635027e+00, -1.22039766e-03, -3.46788123e+00],\n",
       "       [ 2.25888181e-04,  1.00291288e+00, -2.70978374e-01],\n",
       "       [ 2.45734208e-06, -6.39581849e-07,  1.00000000e+00]])"
      ]
     },
     "execution_count": 7,
     "metadata": {},
     "output_type": "execute_result"
    }
   ],
   "source": [
    "H"
   ]
  },
  {
   "cell_type": "code",
   "execution_count": 8,
   "id": "546053f8",
   "metadata": {},
   "outputs": [
    {
     "data": {
      "text/plain": [
       "(1944, 2592, 3)"
      ]
     },
     "execution_count": 8,
     "metadata": {},
     "output_type": "execute_result"
    }
   ],
   "source": [
    "image.shape"
   ]
  },
  {
   "cell_type": "code",
   "execution_count": 9,
   "id": "94daba91",
   "metadata": {},
   "outputs": [],
   "source": [
    "undistorted_img = cv2.warpPerspective(image, H, (2592, 1944))"
   ]
  },
  {
   "cell_type": "code",
   "execution_count": 10,
   "id": "560ec1c6",
   "metadata": {},
   "outputs": [
    {
     "data": {
      "text/plain": [
       "True"
      ]
     },
     "execution_count": 10,
     "metadata": {},
     "output_type": "execute_result"
    }
   ],
   "source": [
    "\n",
    "# Save the undistorted image\n",
    "cv2.imwrite(\"undistorted_image.jpg\", undistorted_img)"
   ]
  },
  {
   "attachments": {},
   "cell_type": "markdown",
   "id": "a17594f6",
   "metadata": {},
   "source": [
    "## Calibarte Camera"
   ]
  },
  {
   "cell_type": "code",
   "execution_count": 12,
   "id": "840d8e13",
   "metadata": {},
   "outputs": [
    {
     "data": {
      "text/plain": [
       "True"
      ]
     },
     "execution_count": 12,
     "metadata": {},
     "output_type": "execute_result"
    },
    {
     "ename": "",
     "evalue": "",
     "output_type": "error",
     "traceback": [
      "\u001b[1;31mThe Kernel crashed while executing code in the the current cell or a previous cell. Please review the code in the cell(s) to identify a possible cause of the failure. Click <a href='https://aka.ms/vscodeJupyterKernelCrash'>here</a> for more info. View Jupyter <a href='command:jupyter.viewOutput'>log</a> for further details."
     ]
    }
   ],
   "source": [
    "camera_matrix = np.array([[1000, 0, 500],\n",
    "                          [0, 1000, 500],\n",
    "                          [0, 0, 1]])\n",
    "\n",
    "distortion_coefficients = np.array([0.1, 0.1, 0, 0, 0])\n",
    "\n",
    "# Correct the barrel distortion\n",
    "undistorted_img = cv2.undistort(image, camera_matrix, distortion_coefficients)\n",
    "\n",
    "# Save the undistorted image\n",
    "cv2.imwrite('undistorted_matrix_image.jpg', undistorted_img)"
   ]
  },
  {
   "cell_type": "code",
   "execution_count": null,
   "id": "ad955100",
   "metadata": {},
   "outputs": [],
   "source": []
  }
 ],
 "metadata": {
  "kernelspec": {
   "display_name": "51",
   "language": "python",
   "name": "python3"
  },
  "language_info": {
   "codemirror_mode": {
    "name": "ipython",
    "version": 3
   },
   "file_extension": ".py",
   "mimetype": "text/x-python",
   "name": "python",
   "nbconvert_exporter": "python",
   "pygments_lexer": "ipython3",
   "version": "3.8.15"
  },
  "vscode": {
   "interpreter": {
    "hash": "fd0382a17d977ae70a6d9f6ae17e2e298f638338f50632a28ce50f70a766e34f"
   }
  }
 },
 "nbformat": 4,
 "nbformat_minor": 5
}
